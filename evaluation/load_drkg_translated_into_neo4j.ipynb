{
 "cells": [
  {
   "attachments": {},
   "cell_type": "markdown",
   "metadata": {},
   "source": [
    "## Setup Connection to Graph Database"
   ]
  },
  {
   "cell_type": "markdown",
   "metadata": {},
   "source": [
    "Download Neo4j locally [here](https://neo4j.com/download/?ref=docs-get-started-dropdown). The default database is called `neo4j`."
   ]
  },
  {
   "cell_type": "code",
   "execution_count": 33,
   "metadata": {},
   "outputs": [],
   "source": [
    "import neo4j\n",
    "import os, shutil\n",
    "import pandas as pd\n",
    "import tqdm"
   ]
  },
  {
   "cell_type": "code",
   "execution_count": 37,
   "metadata": {},
   "outputs": [],
   "source": [
    "driver = neo4j.GraphDatabase.driver(\"neo4j://localhost\", auth=('neo4j', 'password'))\n",
    "driver.verify_connectivity()"
   ]
  },
  {
   "attachments": {},
   "cell_type": "markdown",
   "metadata": {},
   "source": [
    "## Load CSV of translated DRKG relationships"
   ]
  },
  {
   "attachments": {},
   "cell_type": "markdown",
   "metadata": {},
   "source": [
    "The data file must be in the Neo4j import directory. See [here](https://neo4j.com/docs/operations-manual/5/configuration/file-locations/) for the import directory's location on your system."
   ]
  },
  {
   "cell_type": "code",
   "execution_count": 11,
   "metadata": {},
   "outputs": [],
   "source": [
    "# edit the below according to your Neo4j install\n",
    "NEO4J_HOME = \"/home/alexdloia/.config/Neo4j Desktop/Application/relate-data/dbmss/dbms-32f29f82-74c3-4124-8a29-27ad205fb889\"\n",
    "drkg_csv_name = 'drkg_translated_with_relation_labels.csv'\n",
    "drkg_data_path = os.path.join('..', 'data', drkg_csv_name)"
   ]
  },
  {
   "cell_type": "code",
   "execution_count": null,
   "metadata": {},
   "outputs": [],
   "source": [
    "shutil.copy(drkg_data_path, os.path.join(NEO4J_HOME, 'import', drkg_csv_name))"
   ]
  },
  {
   "cell_type": "code",
   "execution_count": 15,
   "metadata": {},
   "outputs": [
    {
     "data": {
      "text/html": [
       "<div>\n",
       "<style scoped>\n",
       "    .dataframe tbody tr th:only-of-type {\n",
       "        vertical-align: middle;\n",
       "    }\n",
       "\n",
       "    .dataframe tbody tr th {\n",
       "        vertical-align: top;\n",
       "    }\n",
       "\n",
       "    .dataframe thead th {\n",
       "        text-align: right;\n",
       "    }\n",
       "</style>\n",
       "<table border=\"1\" class=\"dataframe\">\n",
       "  <thead>\n",
       "    <tr style=\"text-align: right;\">\n",
       "      <th></th>\n",
       "      <th>head_entity</th>\n",
       "      <th>tail_entity</th>\n",
       "      <th>drkg_id</th>\n",
       "      <th>relation_label</th>\n",
       "      <th>head_entity_type</th>\n",
       "      <th>tail_entity_type</th>\n",
       "    </tr>\n",
       "    <tr>\n",
       "      <th>id</th>\n",
       "      <th></th>\n",
       "      <th></th>\n",
       "      <th></th>\n",
       "      <th></th>\n",
       "      <th></th>\n",
       "      <th></th>\n",
       "    </tr>\n",
       "  </thead>\n",
       "  <tbody>\n",
       "    <tr>\n",
       "      <th>0</th>\n",
       "      <td>coagulation factor VIII (F8)</td>\n",
       "      <td>coagulation factor VIII (F8)</td>\n",
       "      <td>bioarx::HumGenHumGen:Gene:Gene</td>\n",
       "      <td>INTERACTION</td>\n",
       "      <td>GENE</td>\n",
       "      <td>GENE</td>\n",
       "    </tr>\n",
       "    <tr>\n",
       "      <th>1</th>\n",
       "      <td>coagulation factor VIII (F8)</td>\n",
       "      <td>phytanoyl-CoA 2-hydroxylase (PHYH)</td>\n",
       "      <td>bioarx::HumGenHumGen:Gene:Gene</td>\n",
       "      <td>INTERACTION</td>\n",
       "      <td>GENE</td>\n",
       "      <td>GENE</td>\n",
       "    </tr>\n",
       "    <tr>\n",
       "      <th>2</th>\n",
       "      <td>coagulation factor VIII (F8)</td>\n",
       "      <td>coagulation factor IX (F9)</td>\n",
       "      <td>bioarx::HumGenHumGen:Gene:Gene</td>\n",
       "      <td>INTERACTION</td>\n",
       "      <td>GENE</td>\n",
       "      <td>GENE</td>\n",
       "    </tr>\n",
       "    <tr>\n",
       "      <th>3</th>\n",
       "      <td>coagulation factor VIII (F8)</td>\n",
       "      <td>heat shock protein family A (Hsp70) member 5 (...</td>\n",
       "      <td>bioarx::HumGenHumGen:Gene:Gene</td>\n",
       "      <td>INTERACTION</td>\n",
       "      <td>GENE</td>\n",
       "      <td>GENE</td>\n",
       "    </tr>\n",
       "    <tr>\n",
       "      <th>4</th>\n",
       "      <td>coagulation factor VIII (F8)</td>\n",
       "      <td>immunoglobulin kappa variable 3-20 (IGKV3-20)</td>\n",
       "      <td>bioarx::HumGenHumGen:Gene:Gene</td>\n",
       "      <td>INTERACTION</td>\n",
       "      <td>GENE</td>\n",
       "      <td>GENE</td>\n",
       "    </tr>\n",
       "  </tbody>\n",
       "</table>\n",
       "</div>"
      ],
      "text/plain": [
       "                     head_entity   \n",
       "id                                 \n",
       "0   coagulation factor VIII (F8)  \\\n",
       "1   coagulation factor VIII (F8)   \n",
       "2   coagulation factor VIII (F8)   \n",
       "3   coagulation factor VIII (F8)   \n",
       "4   coagulation factor VIII (F8)   \n",
       "\n",
       "                                          tail_entity   \n",
       "id                                                      \n",
       "0                        coagulation factor VIII (F8)  \\\n",
       "1                  phytanoyl-CoA 2-hydroxylase (PHYH)   \n",
       "2                          coagulation factor IX (F9)   \n",
       "3   heat shock protein family A (Hsp70) member 5 (...   \n",
       "4       immunoglobulin kappa variable 3-20 (IGKV3-20)   \n",
       "\n",
       "                           drkg_id relation_label head_entity_type   \n",
       "id                                                                   \n",
       "0   bioarx::HumGenHumGen:Gene:Gene    INTERACTION             GENE  \\\n",
       "1   bioarx::HumGenHumGen:Gene:Gene    INTERACTION             GENE   \n",
       "2   bioarx::HumGenHumGen:Gene:Gene    INTERACTION             GENE   \n",
       "3   bioarx::HumGenHumGen:Gene:Gene    INTERACTION             GENE   \n",
       "4   bioarx::HumGenHumGen:Gene:Gene    INTERACTION             GENE   \n",
       "\n",
       "   tail_entity_type  \n",
       "id                   \n",
       "0              GENE  \n",
       "1              GENE  \n",
       "2              GENE  \n",
       "3              GENE  \n",
       "4              GENE  "
      ]
     },
     "execution_count": 15,
     "metadata": {},
     "output_type": "execute_result"
    }
   ],
   "source": [
    "drkg_df = pd.read_csv(drkg_data_path, index_col=\"id\")\n",
    "drkg_df.head()"
   ]
  },
  {
   "cell_type": "code",
   "execution_count": 18,
   "metadata": {},
   "outputs": [],
   "source": [
    "for col_name in [\"head_entity_type\", \"tail_entity_type\"]:\n",
    "    drkg_df[col_name] = drkg_df[col_name].str.replace(\" \", \"_\")"
   ]
  },
  {
   "cell_type": "code",
   "execution_count": 47,
   "metadata": {},
   "outputs": [
    {
     "data": {
      "text/plain": [
       "(array(['GENE', 'COMPOUND', 'DISEASE', 'ANATOMY', 'PHARMACOLOGIC_CLASS',\n",
       "        'BIOLOGICAL_PROCESS', 'SYMPTOM', 'MOLECULAR_FUNCTION',\n",
       "        'CELLULAR_COMPONENT', 'PATHWAY', 'SIDE_EFFECT'], dtype=object),\n",
       " array(['INTERACTION', 'INHIBITION', 'OTHER', 'ACTIVATION', 'BINDING',\n",
       "        'MODULATION', 'BLOCKING', 'ANTAGONISM', 'ANTIBODY',\n",
       "        'POSITIVE_ALLOSTERIC_MODULATION', 'ALLOSTERIC_MODULATION',\n",
       "        'PARTIAL_AGONISM', 'DRUGDRUG_INTERACTION', 'TARGET', 'ENZYME',\n",
       "        'CARRIER', 'COMPOUND_TREATS_THE_DISEASE',\n",
       "        'AFFECTS_EXPRESSION_ORPRODUCTION_NEUTRAL',\n",
       "        'METABOLISM_OR_PHARMACOKINETICS',\n",
       "        'DECREASES_EXPRESSION_ORPRODUCTION',\n",
       "        'INCREASES_EXPRESSION_ORPRODUCTION', 'TRANSPORT_OR_CHANNELS',\n",
       "        'INHIBITS_CELL_GROWTH_ESPECIALLY_CANCERS',\n",
       "        'SIDE_EFFECT_ORADVERSE_EVENT', 'BIOMARKERS_OF_DISEASE_PROGRESSION',\n",
       "        'ALLEVIATES_OR_REDUCES', 'PREVENTS_OR_SUPPRESSES',\n",
       "        'ROLE_IN_DISEASE_PATHOGENESIS',\n",
       "        'IMPROPER_REGULATION_LINKED_TO_DISEASE',\n",
       "        'POLYMORPHISMS_ALTER_RISK', 'ROLE_IN_PATHOGENESIS',\n",
       "        'POSSIBLE_THERAPEUTIC_EFFECT', 'BIOMARKERS_DIAGNOSTIC',\n",
       "        'PROMOTES_PROGRESSION', 'CAUSAL_MUTATIONS',\n",
       "        'OVEREXPRESSION_IN_DISEASE', 'DRUG_TARGETS',\n",
       "        'MUTATIONS_AFFECTING_DISEASE_COURSE', 'ACTIVATES_OR_STIMULATES',\n",
       "        'PRODUCTION_BY_CELL_POPULATION', 'REGULATION',\n",
       "        'BINDING_OR_LIGAND_ESPECIALLY_RECEPTORS', 'SIGNALING_PATHWAY',\n",
       "        'SAME_PROTEIN_OR_COMPLEX', 'ENHANCES_RESPONSE', 'PARTICIPATION',\n",
       "        'RESEMBLENCE', 'DOWNREGULATION', 'PRESENTS', 'LOCALIZATION',\n",
       "        'ASSOCIATION', 'PALLIATION', 'DOWNREGULATATION', 'UPREGULATION',\n",
       "        'COVARIATION', 'INCLUSION', 'CAUSES', 'EXPRESSION',\n",
       "        'PHYSICAL_ASSOCIATION', 'DIRECT_INTERATION', 'COLOCALIZATION',\n",
       "        'DEPHOSPHORYLATION_REACTION', 'CLEAVAGE_REACTION',\n",
       "        'PHOSPHORYLATION_REACTION', 'ADP_RIBOSYLATION_REACTION',\n",
       "        'UBIQUITINATION_REACTION', 'PROTEIN_CLEAVAGE', 'REACTION',\n",
       "        'CATALYSIS', 'POSTTRANSLATIONAL_MODIFICATION'], dtype=object))"
      ]
     },
     "execution_count": 47,
     "metadata": {},
     "output_type": "execute_result"
    }
   ],
   "source": [
    "unique_entity_types = pd.concat(\n",
    "    [drkg_df[\"head_entity_type\"], drkg_df[\"tail_entity_type\"]]\n",
    ").unique()\n",
    "unique_relation_labels = drkg_df[\"relation_label\"].unique()\n",
    "unique_entity_types, unique_relation_labels"
   ]
  },
  {
   "cell_type": "code",
   "execution_count": 30,
   "metadata": {},
   "outputs": [
    {
     "data": {
      "text/html": [
       "<div>\n",
       "<style scoped>\n",
       "    .dataframe tbody tr th:only-of-type {\n",
       "        vertical-align: middle;\n",
       "    }\n",
       "\n",
       "    .dataframe tbody tr th {\n",
       "        vertical-align: top;\n",
       "    }\n",
       "\n",
       "    .dataframe thead th {\n",
       "        text-align: right;\n",
       "    }\n",
       "</style>\n",
       "<table border=\"1\" class=\"dataframe\">\n",
       "  <thead>\n",
       "    <tr style=\"text-align: right;\">\n",
       "      <th></th>\n",
       "      <th>name</th>\n",
       "      <th>type</th>\n",
       "    </tr>\n",
       "  </thead>\n",
       "  <tbody>\n",
       "    <tr>\n",
       "      <th>0</th>\n",
       "      <td>'de novo' AMP biosynthetic process</td>\n",
       "      <td>BIOLOGICAL_PROCESS</td>\n",
       "    </tr>\n",
       "    <tr>\n",
       "      <th>1</th>\n",
       "      <td>'de novo' CTP biosynthetic process</td>\n",
       "      <td>BIOLOGICAL_PROCESS</td>\n",
       "    </tr>\n",
       "    <tr>\n",
       "      <th>2</th>\n",
       "      <td>'de novo' GDP-L-fucose biosynthetic process</td>\n",
       "      <td>BIOLOGICAL_PROCESS</td>\n",
       "    </tr>\n",
       "    <tr>\n",
       "      <th>3</th>\n",
       "      <td>'de novo' IMP biosynthetic process</td>\n",
       "      <td>BIOLOGICAL_PROCESS</td>\n",
       "    </tr>\n",
       "    <tr>\n",
       "      <th>4</th>\n",
       "      <td>'de novo' NAD biosynthetic process</td>\n",
       "      <td>BIOLOGICAL_PROCESS</td>\n",
       "    </tr>\n",
       "  </tbody>\n",
       "</table>\n",
       "</div>"
      ],
      "text/plain": [
       "                                          name                type\n",
       "0           'de novo' AMP biosynthetic process  BIOLOGICAL_PROCESS\n",
       "1           'de novo' CTP biosynthetic process  BIOLOGICAL_PROCESS\n",
       "2  'de novo' GDP-L-fucose biosynthetic process  BIOLOGICAL_PROCESS\n",
       "3           'de novo' IMP biosynthetic process  BIOLOGICAL_PROCESS\n",
       "4           'de novo' NAD biosynthetic process  BIOLOGICAL_PROCESS"
      ]
     },
     "execution_count": 30,
     "metadata": {},
     "output_type": "execute_result"
    }
   ],
   "source": [
    "entity_type_pairs = pd.concat(\n",
    "    [\n",
    "        drkg_df[[\"head_entity\", \"head_entity_type\"]].rename(\n",
    "            columns={\"head_entity\": \"entity\", \"head_entity_type\": \"type\"}\n",
    "        ),\n",
    "        drkg_df[[\"tail_entity\", \"tail_entity_type\"]].rename(\n",
    "            columns={\"tail_entity\": \"entity\", \"tail_entity_type\": \"type\"}\n",
    "        ),\n",
    "    ],\n",
    "    axis=0,\n",
    "    ignore_index=True,\n",
    ").groupby([\"entity\", \"type\"]).size().reset_index()\n",
    "entity_type_pairs.drop(columns=0, inplace=True)\n",
    "entity_type_pairs.rename(columns={'entity': 'name'}, inplace=True)\n",
    "entity_type_pairs.head()"
   ]
  },
  {
   "cell_type": "code",
   "execution_count": 31,
   "metadata": {},
   "outputs": [
    {
     "data": {
      "text/plain": [
       "[{'name': \"'de novo' AMP biosynthetic process\", 'type': 'BIOLOGICAL_PROCESS'},\n",
       " {'name': \"'de novo' CTP biosynthetic process\", 'type': 'BIOLOGICAL_PROCESS'},\n",
       " {'name': \"'de novo' GDP-L-fucose biosynthetic process\",\n",
       "  'type': 'BIOLOGICAL_PROCESS'},\n",
       " {'name': \"'de novo' IMP biosynthetic process\", 'type': 'BIOLOGICAL_PROCESS'},\n",
       " {'name': \"'de novo' NAD biosynthetic process\", 'type': 'BIOLOGICAL_PROCESS'}]"
      ]
     },
     "execution_count": 31,
     "metadata": {},
     "output_type": "execute_result"
    }
   ],
   "source": [
    "entity_type_pairs_l = entity_type_pairs.to_dict('records')\n",
    "entity_type_pairs_l[:5]"
   ]
  },
  {
   "cell_type": "code",
   "execution_count": 32,
   "metadata": {},
   "outputs": [],
   "source": [
    "records, summary, keys = driver.execute_query(\n",
    "    \"UNWIND $props AS map\\n\" + \"CREATE (n:Entity)\\n\" + \"SET n = map\",\n",
    "    props=entity_type_pairs_l,\n",
    ")"
   ]
  },
  {
   "cell_type": "code",
   "execution_count": 41,
   "metadata": {},
   "outputs": [
    {
     "data": {
      "text/plain": [
       "{'labels_added': 62374, 'nodes_created': 62374, 'properties_set': 124748}"
      ]
     },
     "execution_count": 41,
     "metadata": {},
     "output_type": "execute_result"
    }
   ],
   "source": [
    "summary.counters"
   ]
  },
  {
   "cell_type": "code",
   "execution_count": 34,
   "metadata": {},
   "outputs": [
    {
     "data": {
      "text/plain": [
       "head_entity           coagulation factor VIII (F8)\n",
       "tail_entity           coagulation factor VIII (F8)\n",
       "drkg_id             bioarx::HumGenHumGen:Gene:Gene\n",
       "relation_label                         INTERACTION\n",
       "head_entity_type                              GENE\n",
       "tail_entity_type                              GENE\n",
       "Name: 0, dtype: object"
      ]
     },
     "execution_count": 34,
     "metadata": {},
     "output_type": "execute_result"
    }
   ],
   "source": [
    "drkg_df.loc[0]"
   ]
  },
  {
   "cell_type": "code",
   "execution_count": 46,
   "metadata": {},
   "outputs": [
    {
     "data": {
      "text/plain": [
       "Index([  77274,   77321,   77341,   77344,   77346,   77350,   77360,   77363,\n",
       "         77370,   77399,\n",
       "       ...\n",
       "       1538633, 1538711, 1538797, 1538800, 1538874, 1538888, 1538943, 1538970,\n",
       "       1539019, 1539030],\n",
       "      dtype='int64', name='id', length=3234)"
      ]
     },
     "execution_count": 46,
     "metadata": {},
     "output_type": "execute_result"
    }
   ],
   "source": [
    "drkg_df.index[drkg_df[\"relation_label\"] == \"ACTIVATION\"]"
   ]
  },
  {
   "cell_type": "code",
   "execution_count": 49,
   "metadata": {},
   "outputs": [
    {
     "data": {
      "text/plain": [
       "EagerResult(records=[], summary=<neo4j._work.summary.ResultSummary object at 0x7fe2d6c095d0>, keys=[])"
      ]
     },
     "execution_count": 49,
     "metadata": {},
     "output_type": "execute_result"
    }
   ],
   "source": [
    "driver.execute_query(\"CREATE INDEX entity_name_type FOR (e:Entity) ON (e.name, e.type)\")"
   ]
  },
  {
   "cell_type": "code",
   "execution_count": 50,
   "metadata": {},
   "outputs": [
    {
     "name": "stderr",
     "output_type": "stream",
     "text": [
      "100%|██████████| 142410/142410 [08:03<00:00, 294.78it/s]\n",
      "100%|██████████| 38378/38378 [02:36<00:00, 245.09it/s]\n",
      "100%|██████████| 321361/321361 [22:05<00:00, 242.40it/s]\n",
      "100%|██████████| 3234/3234 [00:13<00:00, 243.30it/s]\n",
      "100%|██████████| 15221/15221 [01:01<00:00, 247.11it/s]\n",
      "100%|██████████| 239/239 [00:00<00:00, 239.25it/s]\n",
      "100%|██████████| 1233/1233 [00:05<00:00, 239.59it/s]\n",
      "100%|██████████| 2664/2664 [00:10<00:00, 245.33it/s]\n",
      "100%|██████████| 179/179 [00:00<00:00, 220.02it/s]\n",
      "100%|██████████| 598/598 [00:02<00:00, 245.87it/s]\n",
      "100%|██████████| 196/196 [00:00<00:00, 229.84it/s]\n",
      "100%|██████████| 66/66 [00:00<00:00, 200.61it/s]\n",
      "100%|██████████| 1378439/1378439 [1:19:34<00:00, 288.70it/s]\n",
      "100%|██████████| 14479/14479 [00:48<00:00, 296.82it/s]\n",
      "100%|██████████| 5952/5952 [00:22<00:00, 263.17it/s]\n",
      "100%|██████████| 718/718 [00:02<00:00, 254.15it/s]\n",
      "100%|██████████| 48554/48554 [02:50<00:00, 284.22it/s]\n",
      "100%|██████████| 15299/15299 [00:54<00:00, 281.80it/s]\n",
      "100%|██████████| 5781/5781 [00:21<00:00, 270.99it/s]\n",
      "100%|██████████| 22304/22304 [01:17<00:00, 287.56it/s]\n",
      "100%|██████████| 26105/26105 [01:33<00:00, 277.91it/s]\n",
      "100%|██████████| 2389/2389 [00:08<00:00, 293.02it/s]\n",
      "100%|██████████| 848/848 [00:02<00:00, 298.26it/s]\n",
      "100%|██████████| 13866/13866 [00:50<00:00, 272.46it/s]\n",
      "100%|██████████| 347/347 [00:01<00:00, 282.46it/s]\n",
      "100%|██████████| 1615/1615 [00:05<00:00, 272.39it/s]\n",
      "100%|██████████| 682/682 [00:02<00:00, 272.50it/s]\n",
      "100%|██████████| 827/827 [00:03<00:00, 265.81it/s]\n",
      "100%|██████████| 35702/35702 [02:07<00:00, 280.65it/s]\n",
      "100%|██████████| 1408/1408 [00:05<00:00, 270.72it/s]\n",
      "100%|██████████| 15645/15645 [00:53<00:00, 294.55it/s]\n",
      "100%|██████████| 2082/2082 [00:07<00:00, 263.45it/s]\n",
      "100%|██████████| 789/789 [00:02<00:00, 273.54it/s]\n",
      "100%|██████████| 1414/1414 [00:05<00:00, 258.82it/s]\n",
      "100%|██████████| 3997/3997 [00:14<00:00, 275.11it/s]\n",
      "100%|██████████| 763/763 [00:02<00:00, 266.45it/s]\n",
      "100%|██████████| 181/181 [00:00<00:00, 272.08it/s]\n",
      "100%|██████████| 192/192 [00:00<00:00, 268.32it/s]\n",
      "100%|██████████| 87639/87639 [05:10<00:00, 282.63it/s]\n",
      "100%|██████████| 12802/12802 [00:47<00:00, 266.97it/s]\n",
      "100%|██████████| 273063/273063 [16:18<00:00, 278.96it/s]\n",
      "100%|██████████| 321182/321182 [19:02<00:00, 281.05it/s]\n",
      "100%|██████████| 2762/2762 [00:09<00:00, 294.15it/s]\n",
      "100%|██████████| 1431/1431 [00:04<00:00, 296.36it/s]\n",
      "100%|██████████| 122/122 [00:00<00:00, 280.18it/s]\n",
      "100%|██████████| 814664/814664 [48:05<00:00, 282.32it/s]\n",
      "100%|██████████| 7019/7019 [00:28<00:00, 249.29it/s]\n",
      "100%|██████████| 7373/7373 [00:26<00:00, 273.62it/s]\n",
      "100%|██████████| 3309/3309 [00:11<00:00, 284.30it/s]\n",
      "100%|██████████| 3552/3552 [00:12<00:00, 287.89it/s]\n",
      "100%|██████████| 125875/125875 [08:18<00:00, 252.63it/s]\n",
      "100%|██████████| 390/390 [00:01<00:00, 247.22it/s]\n",
      "100%|██████████| 102240/102240 [06:55<00:00, 246.28it/s]\n",
      "100%|██████████| 105329/105329 [07:00<00:00, 250.54it/s]\n",
      "100%|██████████| 61690/61690 [04:08<00:00, 248.20it/s]\n",
      "100%|██████████| 1029/1029 [00:04<00:00, 249.35it/s]\n",
      "100%|██████████| 138944/138944 [09:24<00:00, 246.16it/s]\n",
      "100%|██████████| 527164/527164 [3:27:42<00:00, 42.30it/s]      \n",
      "100%|██████████| 129514/129514 [08:36<00:00, 250.60it/s]\n",
      "100%|██████████| 7086/7086 [00:27<00:00, 253.12it/s]\n",
      "100%|██████████| 3468/3468 [00:13<00:00, 252.66it/s]\n",
      "100%|██████████| 303/303 [00:01<00:00, 219.37it/s]\n",
      "100%|██████████| 93/93 [00:00<00:00, 225.20it/s]\n",
      "100%|██████████| 1328/1328 [00:05<00:00, 252.49it/s]\n",
      "100%|██████████| 58/58 [00:00<00:00, 204.28it/s]\n",
      "100%|██████████| 371/371 [00:01<00:00, 240.42it/s]\n",
      "100%|██████████| 67/67 [00:00<00:00, 203.57it/s]\n",
      "100%|██████████| 400426/400426 [15:39:43<00:00,  7.10it/s]     \n",
      "100%|██████████| 343533/343533 [22:14<00:00, 257.39it/s]\n",
      "100%|██████████| 15113/15113 [00:56<00:00, 266.62it/s]\n"
     ]
    }
   ],
   "source": [
    "for relation_label in unique_relation_labels:\n",
    "    # create relationships for each label according to drkg_df\n",
    "    this_index = drkg_df.index[drkg_df[\"relation_label\"] == relation_label]\n",
    "    if relation_label == \"INTERACTION\":\n",
    "        this_index = this_index[82023:]\n",
    "    for i in tqdm.tqdm(this_index):\n",
    "        row = drkg_df.loc[i]\n",
    "        rel_type = row[\"relation_label\"]\n",
    "        driver.execute_query(\n",
    "            f\"\"\"\n",
    "        MATCH \n",
    "            (e1:Entity {{name: $head_name, type: $head_type}}),\n",
    "            (e2:Entity {{name: $tail_name, type: $tail_type}})\n",
    "        CREATE\n",
    "            (e1)-[r:{rel_type} {{type: $drkg_id}}]->(e2)\n",
    "        \"\"\",\n",
    "            head_name=row[\"head_entity\"],\n",
    "            tail_name=row[\"tail_entity\"],\n",
    "            head_type=row[\"head_entity_type\"],\n",
    "            tail_type=row[\"tail_entity_type\"],\n",
    "            drkg_id=row[\"drkg_id\"],\n",
    "            database_='neo4j'\n",
    "        )"
   ]
  }
 ],
 "metadata": {
  "kernelspec": {
   "display_name": "simp_llm",
   "language": "python",
   "name": "python3"
  },
  "language_info": {
   "codemirror_mode": {
    "name": "ipython",
    "version": 3
   },
   "file_extension": ".py",
   "mimetype": "text/x-python",
   "name": "python",
   "nbconvert_exporter": "python",
   "pygments_lexer": "ipython3",
   "version": "3.11.3"
  },
  "orig_nbformat": 4
 },
 "nbformat": 4,
 "nbformat_minor": 2
}
