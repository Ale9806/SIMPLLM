{
 "cells": [
  {
   "cell_type": "markdown",
   "metadata": {
    "id": "DnQGl_D4786T"
   },
   "source": [
    "DRKG\n",
    "\n",
    "Adapted from: https://github.com/gnn4dr/DRKG/blob/master/drkg_with_dgl/loading_drkg_in_dgl.ipynb\n"
   ]
  },
  {
   "cell_type": "code",
   "execution_count": 22,
   "metadata": {
    "id": "PV4N5XSIKfTa"
   },
   "outputs": [],
   "source": [
    "import pandas as pd\n",
    "import numpy as np\n",
    "import os\n",
    "import torch_geometric.transforms as T\n",
    "import torch\n",
    "from sklearn.metrics import accuracy_score\n",
    "\n",
    "import torch\n",
    "import torch.nn as nn\n",
    "import torch.nn.functional as F\n",
    "import torch_geometric as pyg\n",
    "import torch_geometric\n",
    "from torch_geometric.nn import SAGEConv, to_hetero\n",
    "from torch.utils.data import Dataset, DataLoader\n",
    "from torch_geometric.data import Data\n",
    "from torch_geometric.utils import negative_sampling\n",
    "\n",
    "import sys\n",
    "\n",
    "sys.path.append(\"..\")\n",
    "from torch_geometric.nn import SAGEConv, to_hetero\n",
    "from SIMP_LLM.dataloader_mappings import load_graph, load_csv_as_list\n",
    "\n",
    "\n",
    "from SIMP_LLM.models import (\n",
    "    GATStack,\n",
    "    GNNStack,\n",
    "    LinkPredictorMLP,\n",
    "    CosineSimilarityModel,\n",
    "    save_torch_model,\n",
    ")\n",
    "from SIMP_LLM.train_utils import (\n",
    "    forward_pass,\n",
    "    train,\n",
    "    evaluate,\n",
    "    filter_edge_index_by_value,\n",
    "    split_edge_index,\n",
    "    get_negative_edges,\n",
    ")\n",
    "\n",
    "import matplotlib.pyplot as plt  # needed to visualize loss curves\n",
    "import numpy as np\n",
    "\n",
    "from sklearn import metrics\n",
    "from sklearn.metrics import ConfusionMatrixDisplay\n",
    "\n",
    "\n",
    "import copy\n",
    "import csv\n",
    "import pickle\n",
    "from DRKG_COVID.utils import download_and_extract\n",
    "\n",
    "download_and_extract()"
   ]
  },
  {
   "cell_type": "markdown",
   "metadata": {},
   "source": [
    "## Load Graph\n"
   ]
  },
  {
   "cell_type": "code",
   "execution_count": 67,
   "metadata": {},
   "outputs": [],
   "source": [
    "# triplets =[('Compound', 'Compound_treats_the_disease', 'Disease')] # Uncomment this line\n",
    "triplets = load_csv_as_list(\n",
    "    \"../triplets.csv\"\n",
    ")  # triplets of form (tail, relationship,head)\n",
    "# data         = load_graph(triplets)                                # Load Graph based on triplets (You can selet the triplets\n",
    "dictionaries = pickle.load(open(\"../data2/mapping_dict/data.pkl\", mode=\"rb\"))\n",
    "orig_edge_index = torch.load(\n",
    "    \"../data2/edge_index/Compound_Compound_treats_the_disease_Disease.pt\"\n",
    ")\n",
    "# print(data)\n",
    "# print(data[\"Compound\", \"Compound_treats_the_disease\", \"Disease\"].edge_index)"
   ]
  },
  {
   "cell_type": "code",
   "execution_count": 29,
   "metadata": {},
   "outputs": [],
   "source": [
    "index_to_compound = {v: k for k, v in dictionaries[\"Compound\"].items()}"
   ]
  },
  {
   "cell_type": "code",
   "execution_count": 30,
   "metadata": {},
   "outputs": [
    {
     "data": {
      "text/plain": [
       "'Dornase alfa'"
      ]
     },
     "execution_count": 30,
     "metadata": {},
     "output_type": "execute_result"
    }
   ],
   "source": [
    "index_to_compound[12303]"
   ]
  },
  {
   "cell_type": "code",
   "execution_count": 55,
   "metadata": {},
   "outputs": [
    {
     "name": "stdout",
     "output_type": "stream",
     "text": [
      "            name\n",
      "0  Ubidecarenone\n",
      "1  Benzimidazole\n",
      "2     Hachimycin\n",
      "3   Biflavonoids\n",
      "4     LY-3023414\n"
     ]
    }
   ],
   "source": [
    "index_to_compound_df = pd.DataFrame.from_dict(index_to_compound, orient=\"index\", columns=[\"name\"])\n",
    "print(index_to_compound_df.head())"
   ]
  },
  {
   "cell_type": "code",
   "execution_count": 31,
   "metadata": {},
   "outputs": [],
   "source": [
    "index_to_disease = {v: k for k, v in dictionaries[\"Disease\"].items()}"
   ]
  },
  {
   "cell_type": "code",
   "execution_count": 32,
   "metadata": {},
   "outputs": [
    {
     "data": {
      "text/plain": [
       "'Cystic Fibrosis'"
      ]
     },
     "execution_count": 32,
     "metadata": {},
     "output_type": "execute_result"
    }
   ],
   "source": [
    "index_to_disease[2567]"
   ]
  },
  {
   "cell_type": "code",
   "execution_count": 56,
   "metadata": {},
   "outputs": [
    {
     "name": "stdout",
     "output_type": "stream",
     "text": [
      "                                     name\n",
      "0  Goldberg-Shprintzen megacolon syndrome\n",
      "1         Ablepharon macrostomia syndrome\n",
      "2                           Borna Disease\n",
      "3                      Hyperbilirubinemia\n",
      "4                           Iris Diseases\n"
     ]
    }
   ],
   "source": [
    "index_to_disease_df = pd.DataFrame.from_dict(index_to_disease, orient=\"index\", columns=[\"name\"])\n",
    "print(index_to_disease_df.head())"
   ]
  },
  {
   "cell_type": "code",
   "execution_count": 33,
   "metadata": {},
   "outputs": [],
   "source": [
    "drkg_entity_df = pd.read_pickle(os.path.join(\"..\", \"data\", \"drkg_entity_df.pkl\"))"
   ]
  },
  {
   "cell_type": "code",
   "execution_count": 48,
   "metadata": {},
   "outputs": [
    {
     "data": {
      "text/html": [
       "<div>\n",
       "<style scoped>\n",
       "    .dataframe tbody tr th:only-of-type {\n",
       "        vertical-align: middle;\n",
       "    }\n",
       "\n",
       "    .dataframe tbody tr th {\n",
       "        vertical-align: top;\n",
       "    }\n",
       "\n",
       "    .dataframe thead th {\n",
       "        text-align: right;\n",
       "    }\n",
       "</style>\n",
       "<table border=\"1\" class=\"dataframe\">\n",
       "  <thead>\n",
       "    <tr style=\"text-align: right;\">\n",
       "      <th></th>\n",
       "      <th>drkg_id</th>\n",
       "      <th>drkg_dict_id</th>\n",
       "      <th>name</th>\n",
       "      <th>entity_type</th>\n",
       "      <th>ontology_code</th>\n",
       "      <th>ontology_name</th>\n",
       "      <th>code</th>\n",
       "    </tr>\n",
       "  </thead>\n",
       "  <tbody>\n",
       "    <tr>\n",
       "      <th>46653</th>\n",
       "      <td>Gene::100008586</td>\n",
       "      <td>Gene::100008586</td>\n",
       "      <td>G antigen 12F (GAGE12F)</td>\n",
       "      <td>Gene</td>\n",
       "      <td>100008586</td>\n",
       "      <td>None</td>\n",
       "      <td>100008586</td>\n",
       "    </tr>\n",
       "    <tr>\n",
       "      <th>46836</th>\n",
       "      <td>Gene::10001</td>\n",
       "      <td>Gene::10001</td>\n",
       "      <td>mediator complex subunit 6 (MED6)</td>\n",
       "      <td>Gene</td>\n",
       "      <td>10001</td>\n",
       "      <td>None</td>\n",
       "      <td>10001</td>\n",
       "    </tr>\n",
       "    <tr>\n",
       "      <th>46838</th>\n",
       "      <td>Gene::10002</td>\n",
       "      <td>Gene::10002</td>\n",
       "      <td>nuclear receptor subfamily 2 group E member 3 ...</td>\n",
       "      <td>Gene</td>\n",
       "      <td>10002</td>\n",
       "      <td>None</td>\n",
       "      <td>10002</td>\n",
       "    </tr>\n",
       "    <tr>\n",
       "      <th>46839</th>\n",
       "      <td>Gene::10003</td>\n",
       "      <td>Gene::10003</td>\n",
       "      <td>N-acetylated alpha-linked acidic dipeptidase 2...</td>\n",
       "      <td>Gene</td>\n",
       "      <td>10003</td>\n",
       "      <td>None</td>\n",
       "      <td>10003</td>\n",
       "    </tr>\n",
       "    <tr>\n",
       "      <th>46847</th>\n",
       "      <td>Gene::100033819</td>\n",
       "      <td>Gene::100033819</td>\n",
       "      <td>microRNA 675 (MIR675)</td>\n",
       "      <td>Gene</td>\n",
       "      <td>100033819</td>\n",
       "      <td>None</td>\n",
       "      <td>100033819</td>\n",
       "    </tr>\n",
       "  </tbody>\n",
       "</table>\n",
       "</div>"
      ],
      "text/plain": [
       "               drkg_id     drkg_dict_id   \n",
       "46653  Gene::100008586  Gene::100008586  \\\n",
       "46836      Gene::10001      Gene::10001   \n",
       "46838      Gene::10002      Gene::10002   \n",
       "46839      Gene::10003      Gene::10003   \n",
       "46847  Gene::100033819  Gene::100033819   \n",
       "\n",
       "                                                    name entity_type   \n",
       "46653                            G antigen 12F (GAGE12F)        Gene  \\\n",
       "46836                  mediator complex subunit 6 (MED6)        Gene   \n",
       "46838  nuclear receptor subfamily 2 group E member 3 ...        Gene   \n",
       "46839  N-acetylated alpha-linked acidic dipeptidase 2...        Gene   \n",
       "46847                              microRNA 675 (MIR675)        Gene   \n",
       "\n",
       "      ontology_code ontology_name       code  \n",
       "46653     100008586          None  100008586  \n",
       "46836         10001          None      10001  \n",
       "46838         10002          None      10002  \n",
       "46839         10003          None      10003  \n",
       "46847     100033819          None  100033819  "
      ]
     },
     "execution_count": 48,
     "metadata": {},
     "output_type": "execute_result"
    }
   ],
   "source": [
    "drkg_entity_df.iloc[\n",
    "    (drkg_entity_df[\"entity_type\"] == \"Gene\").to_numpy().nonzero()[0][5:10]\n",
    "]"
   ]
  },
  {
   "cell_type": "code",
   "execution_count": 60,
   "metadata": {},
   "outputs": [
    {
     "data": {
      "text/html": [
       "<div>\n",
       "<style scoped>\n",
       "    .dataframe tbody tr th:only-of-type {\n",
       "        vertical-align: middle;\n",
       "    }\n",
       "\n",
       "    .dataframe tbody tr th {\n",
       "        vertical-align: top;\n",
       "    }\n",
       "\n",
       "    .dataframe thead th {\n",
       "        text-align: right;\n",
       "    }\n",
       "</style>\n",
       "<table border=\"1\" class=\"dataframe\">\n",
       "  <thead>\n",
       "    <tr style=\"text-align: right;\">\n",
       "      <th></th>\n",
       "      <th>name</th>\n",
       "      <th>drkg_id</th>\n",
       "    </tr>\n",
       "  </thead>\n",
       "  <tbody>\n",
       "    <tr>\n",
       "      <th>0</th>\n",
       "      <td>Ubidecarenone</td>\n",
       "      <td>Compound::DB09270</td>\n",
       "    </tr>\n",
       "    <tr>\n",
       "      <th>1</th>\n",
       "      <td>Benzimidazole</td>\n",
       "      <td>Compound::DB02962</td>\n",
       "    </tr>\n",
       "    <tr>\n",
       "      <th>2</th>\n",
       "      <td>Hachimycin</td>\n",
       "      <td>Compound::DB13302</td>\n",
       "    </tr>\n",
       "    <tr>\n",
       "      <th>3</th>\n",
       "      <td>Biflavonoids</td>\n",
       "      <td>Compound::MESH:D044946</td>\n",
       "    </tr>\n",
       "    <tr>\n",
       "      <th>4</th>\n",
       "      <td>LY-3023414</td>\n",
       "      <td>Compound::DB12167</td>\n",
       "    </tr>\n",
       "  </tbody>\n",
       "</table>\n",
       "</div>"
      ],
      "text/plain": [
       "            name                 drkg_id\n",
       "0  Ubidecarenone       Compound::DB09270\n",
       "1  Benzimidazole       Compound::DB02962\n",
       "2     Hachimycin       Compound::DB13302\n",
       "3   Biflavonoids  Compound::MESH:D044946\n",
       "4     LY-3023414       Compound::DB12167"
      ]
     },
     "execution_count": 60,
     "metadata": {},
     "output_type": "execute_result"
    }
   ],
   "source": [
    "index_to_compound_df = index_to_compound_df.merge(drkg_entity_df[[\"drkg_id\", \"name\"]], how=\"left\", on=\"name\")\n",
    "index_to_compound_df.head()"
   ]
  },
  {
   "cell_type": "code",
   "execution_count": 58,
   "metadata": {},
   "outputs": [
    {
     "data": {
      "text/html": [
       "<div>\n",
       "<style scoped>\n",
       "    .dataframe tbody tr th:only-of-type {\n",
       "        vertical-align: middle;\n",
       "    }\n",
       "\n",
       "    .dataframe tbody tr th {\n",
       "        vertical-align: top;\n",
       "    }\n",
       "\n",
       "    .dataframe thead th {\n",
       "        text-align: right;\n",
       "    }\n",
       "</style>\n",
       "<table border=\"1\" class=\"dataframe\">\n",
       "  <thead>\n",
       "    <tr style=\"text-align: right;\">\n",
       "      <th></th>\n",
       "      <th>name</th>\n",
       "      <th>drkg_id</th>\n",
       "    </tr>\n",
       "  </thead>\n",
       "  <tbody>\n",
       "    <tr>\n",
       "      <th>0</th>\n",
       "      <td>Goldberg-Shprintzen megacolon syndrome</td>\n",
       "      <td>Disease::MESH:C537279</td>\n",
       "    </tr>\n",
       "    <tr>\n",
       "      <th>1</th>\n",
       "      <td>Ablepharon macrostomia syndrome</td>\n",
       "      <td>Disease::MESH:C535557</td>\n",
       "    </tr>\n",
       "    <tr>\n",
       "      <th>2</th>\n",
       "      <td>Borna Disease</td>\n",
       "      <td>Disease::MESH:D001890</td>\n",
       "    </tr>\n",
       "    <tr>\n",
       "      <th>3</th>\n",
       "      <td>Hyperbilirubinemia</td>\n",
       "      <td>Disease::MESH:D006932</td>\n",
       "    </tr>\n",
       "    <tr>\n",
       "      <th>4</th>\n",
       "      <td>Iris Diseases</td>\n",
       "      <td>Disease::MESH:D007499</td>\n",
       "    </tr>\n",
       "  </tbody>\n",
       "</table>\n",
       "</div>"
      ],
      "text/plain": [
       "                                     name                drkg_id\n",
       "0  Goldberg-Shprintzen megacolon syndrome  Disease::MESH:C537279\n",
       "1         Ablepharon macrostomia syndrome  Disease::MESH:C535557\n",
       "2                           Borna Disease  Disease::MESH:D001890\n",
       "3                      Hyperbilirubinemia  Disease::MESH:D006932\n",
       "4                           Iris Diseases  Disease::MESH:D007499"
      ]
     },
     "execution_count": 58,
     "metadata": {},
     "output_type": "execute_result"
    }
   ],
   "source": [
    "index_to_disease_df = index_to_disease_df.merge(drkg_entity_df[[\"drkg_id\", \"name\"]], how=\"left\", on=\"name\")\n",
    "index_to_disease_df.head()"
   ]
  },
  {
   "cell_type": "markdown",
   "metadata": {},
   "source": [
    "## Get TransE embeddings\n"
   ]
  },
  {
   "cell_type": "code",
   "execution_count": 35,
   "metadata": {},
   "outputs": [],
   "source": [
    "entity_idmap_file = \"../data/embed/entities.tsv\""
   ]
  },
  {
   "cell_type": "code",
   "execution_count": 36,
   "metadata": {},
   "outputs": [],
   "source": [
    "# Get drugname/disease name to entity ID mappings\n",
    "entity_map = {}\n",
    "entity_id_map = {}\n",
    "with open(entity_idmap_file, newline=\"\", encoding=\"utf-8\") as csvfile:\n",
    "    reader = csv.DictReader(csvfile, delimiter=\"\\t\", fieldnames=[\"name\", \"id\"])\n",
    "    for row_val in reader:\n",
    "        entity_map[row_val[\"name\"]] = int(row_val[\"id\"])\n",
    "        entity_id_map[int(row_val[\"id\"])] = row_val[\"name\"]"
   ]
  },
  {
   "cell_type": "code",
   "execution_count": 40,
   "metadata": {},
   "outputs": [
    {
     "name": "stdout",
     "output_type": "stream",
     "text": [
      "['Gene::653268', 'Gene::341883', 'Gene::79549', 'Gene::340811', 'Gene::644524']\n"
     ]
    }
   ],
   "source": [
    "print(list(entity_map.keys())[-200:-195])"
   ]
  },
  {
   "cell_type": "code",
   "execution_count": 59,
   "metadata": {},
   "outputs": [
    {
     "data": {
      "text/plain": [
       "57621"
      ]
     },
     "execution_count": 59,
     "metadata": {},
     "output_type": "execute_result"
    }
   ],
   "source": [
    "entity_map[\"Disease::MESH:C537279\"]"
   ]
  },
  {
   "cell_type": "code",
   "execution_count": 61,
   "metadata": {},
   "outputs": [
    {
     "data": {
      "text/html": [
       "<div>\n",
       "<style scoped>\n",
       "    .dataframe tbody tr th:only-of-type {\n",
       "        vertical-align: middle;\n",
       "    }\n",
       "\n",
       "    .dataframe tbody tr th {\n",
       "        vertical-align: top;\n",
       "    }\n",
       "\n",
       "    .dataframe thead th {\n",
       "        text-align: right;\n",
       "    }\n",
       "</style>\n",
       "<table border=\"1\" class=\"dataframe\">\n",
       "  <thead>\n",
       "    <tr style=\"text-align: right;\">\n",
       "      <th></th>\n",
       "      <th>idx</th>\n",
       "    </tr>\n",
       "  </thead>\n",
       "  <tbody>\n",
       "    <tr>\n",
       "      <th>Gene::2157</th>\n",
       "      <td>0</td>\n",
       "    </tr>\n",
       "    <tr>\n",
       "      <th>Gene::5264</th>\n",
       "      <td>1</td>\n",
       "    </tr>\n",
       "    <tr>\n",
       "      <th>Gene::2158</th>\n",
       "      <td>2</td>\n",
       "    </tr>\n",
       "    <tr>\n",
       "      <th>Gene::3309</th>\n",
       "      <td>3</td>\n",
       "    </tr>\n",
       "    <tr>\n",
       "      <th>Gene::28912</th>\n",
       "      <td>4</td>\n",
       "    </tr>\n",
       "  </tbody>\n",
       "</table>\n",
       "</div>"
      ],
      "text/plain": [
       "             idx\n",
       "Gene::2157     0\n",
       "Gene::5264     1\n",
       "Gene::2158     2\n",
       "Gene::3309     3\n",
       "Gene::28912    4"
      ]
     },
     "execution_count": 61,
     "metadata": {},
     "output_type": "execute_result"
    }
   ],
   "source": [
    "entity_map_df = pd.DataFrame.from_dict(entity_map, orient=\"index\", columns=[\"idx\"])\n",
    "entity_map_df.head()"
   ]
  },
  {
   "cell_type": "code",
   "execution_count": 71,
   "metadata": {},
   "outputs": [
    {
     "data": {
      "text/plain": [
       "idx    57621\n",
       "Name: Disease::MESH:C537279, dtype: int64"
      ]
     },
     "execution_count": 71,
     "metadata": {},
     "output_type": "execute_result"
    }
   ],
   "source": [
    "entity_map_df.loc[\"Disease::MESH:C537279\"]"
   ]
  },
  {
   "cell_type": "code",
   "execution_count": 63,
   "metadata": {},
   "outputs": [
    {
     "data": {
      "text/plain": [
       "(15364, 4855)"
      ]
     },
     "execution_count": 63,
     "metadata": {},
     "output_type": "execute_result"
    }
   ],
   "source": [
    "compound_idxs = entity_map_df.loc[index_to_compound_df[\"drkg_id\"]][\"idx\"]\n",
    "disease_idxs = entity_map_df.loc[index_to_disease_df[\"drkg_id\"]][\"idx\"]\n",
    "compound_idxs.size, disease_idxs.size"
   ]
  },
  {
   "cell_type": "code",
   "execution_count": 72,
   "metadata": {},
   "outputs": [
    {
     "data": {
      "text/plain": [
       "True"
      ]
     },
     "execution_count": 72,
     "metadata": {},
     "output_type": "execute_result"
    }
   ],
   "source": [
    "disease_idxs[0] == 57621 # sanity check"
   ]
  },
  {
   "cell_type": "code",
   "execution_count": 74,
   "metadata": {},
   "outputs": [
    {
     "name": "stdout",
     "output_type": "stream",
     "text": [
      "(97238, 400)\n"
     ]
    }
   ],
   "source": [
    "# Load embeddings\n",
    "entity_emb = np.load(\"../data/embed/DRKG_TransE_l2_entity.npy\")\n",
    "rel_emb = np.load(\"../data/embed/DRKG_TransE_l2_relation.npy\")\n",
    "print(entity_emb.shape)\n",
    "\n",
    "compound_embs = torch.tensor(entity_emb[compound_idxs])\n",
    "disease_embs = torch.tensor(entity_emb[disease_idxs])"
   ]
  },
  {
   "attachments": {},
   "cell_type": "markdown",
   "metadata": {},
   "source": [
    "### 2 Get Edge Index Splits\n"
   ]
  },
  {
   "cell_type": "code",
   "execution_count": 68,
   "metadata": {},
   "outputs": [
    {
     "name": "stdout",
     "output_type": "stream",
     "text": [
      "##############\n",
      "Edge Index 1: torch.Size([2, 40666])\n",
      "\n",
      "Edge Index 2: torch.Size([2, 7888])\n",
      "##############\n",
      "##############\n",
      "Edge Index 1: torch.Size([2, 1969])\n",
      "\n",
      "Edge Index 2: torch.Size([2, 5919])\n",
      "##############\n",
      "##############\n",
      "Edge Index 1: torch.Size([2, 30998])\n",
      "\n",
      "Edge Index 2: torch.Size([2, 9668])\n",
      "##############\n",
      "##############\n",
      "Edge Index 1: torch.Size([2, 972])\n",
      "\n",
      "Edge Index 2: torch.Size([2, 997])\n",
      "##############\n",
      "##############\n",
      "Edge Index 1: torch.Size([2, 972])\n",
      "\n",
      "Edge Index 2: torch.Size([2, 997])\n",
      "##############\n"
     ]
    }
   ],
   "source": [
    "## SPLIT TRAIN, TEST, VAL\n",
    "edge_index_train, edge_index_validation_test = split_edge_index(\n",
    "    edge_index=orig_edge_index,\n",
    "    percentage=0.9,\n",
    "    verbose=True,\n",
    ")\n",
    "edge_index_validation, edge_index_test = split_edge_index(\n",
    "    edge_index=edge_index_validation_test, percentage=0.5, verbose=True\n",
    ")\n",
    "\n",
    "\n",
    "## Furthere split into EMBED and PREDICT for every split ###\n",
    "edge_index_train_embed, edge_index_train_predict = split_edge_index(\n",
    "    edge_index=edge_index_train, percentage=0.8, verbose=True\n",
    ")\n",
    "edge_index_val_embed, edge_index_val_predict = split_edge_index(\n",
    "    edge_index=edge_index_validation, percentage=0.85, verbose=True\n",
    ")\n",
    "edge_index_test_embed, edge_index_test_predict = split_edge_index(\n",
    "    edge_index=edge_index_validation, percentage=0.85, verbose=True\n",
    ")"
   ]
  },
  {
   "cell_type": "markdown",
   "metadata": {},
   "source": [
    "### 3 Compile Model\n"
   ]
  },
  {
   "cell_type": "code",
   "execution_count": 80,
   "metadata": {},
   "outputs": [],
   "source": [
    "def forward_pass_link_pred(link_predictor, node_emb1, node_emb2, pos_edge_index, device=\"cpu\"):\n",
    "    negative_edge_index = negative_sampling(\n",
    "        edge_index=pos_edge_index,  # Possitve PPI's\n",
    "        num_nodes=(\n",
    "            node_emb1.shape[0],\n",
    "            node_emb2.shape[0],\n",
    "        ),  # Total number of nodes in graph\n",
    "        num_neg_samples=pos_edge_index.shape[1],  # Same Number of edges as in positive example\n",
    "        method=\"dense\",  # Method for edge generation\n",
    "        force_undirected=True,\n",
    "    )  # Our graph is undirected\n",
    "\n",
    "    edge_index = torch.cat((pos_edge_index, negative_edge_index), dim=1)\n",
    "    pred = link_predictor(\n",
    "        node_emb1[edge_index[0]].to(device),\n",
    "        node_emb2[edge_index[1]].to(device),\n",
    "    )\n",
    "\n",
    "    ones_tensor = torch.ones(pos_edge_index.shape[1])\n",
    "    zero_tensor = torch.zeros(negative_edge_index.shape[1])\n",
    "    labels = torch.cat((ones_tensor, zero_tensor), dim=0)\n",
    "\n",
    "    return pred, labels.to(device)\n",
    "\n",
    "\n",
    "def evaluate_link_pred(\n",
    "    predictor,\n",
    "    node_emb1,\n",
    "    node_emb2,\n",
    "    pos_edge_index,\n",
    "    threshold: float = 0.5,\n",
    "    show_extra_metrics=True,\n",
    "):\n",
    "    predictor.eval()\n",
    "    with torch.no_grad():\n",
    "        pred, ground_truth = forward_pass_link_pred(predictor, node_emb1, node_emb2, pos_edge_index)\n",
    "        acc = accuracy_score(pred.to(\"cpu\") > threshold, ground_truth.to(\"cpu\"))\n",
    "\n",
    "    if show_extra_metrics == True:\n",
    "        fig, ax = plt.subplots(1, 2, figsize=(10, 2))\n",
    "        fpr, tpr, thresholds = metrics.roc_curve(ground_truth, pred)\n",
    "\n",
    "        sens = tpr\n",
    "        spec = 1 - fpr\n",
    "        j = sens + spec - 1\n",
    "        opt_index = np.where(j == np.max(j))[0][0]\n",
    "        op_point = thresholds[opt_index]\n",
    "\n",
    "        print(\n",
    "            f\"Youdens  index: {op_point:.4f} Sensitivity: {round(sens[opt_index],4)} Specificity: {round(spec[opt_index],4)}\"\n",
    "        )\n",
    "\n",
    "        ax[0].set_title(\"ROC Curve\")\n",
    "        ax[1].set_title(\"Confusion Matrix\")\n",
    "        ax[0].plot(fpr, tpr, label=\"COSINE\")\n",
    "        ax[0].plot([0, 1], [0, 1], \"k--\")\n",
    "        ax[0].set_ylabel(\"True Positive Rate\")\n",
    "        ax[0].set_xlabel(\"False Positive Rate\")\n",
    "        ax[0].legend()\n",
    "\n",
    "        cfm = metrics.confusion_matrix(ground_truth, np.array(pred) > op_point)\n",
    "\n",
    "        cmn = cfm.astype(\"float\") / cfm.sum(axis=1)[:, np.newaxis]  # Normalise\n",
    "        disp = ConfusionMatrixDisplay(cmn)\n",
    "        disp.plot(ax=ax[1])\n",
    "\n",
    "        plt.show()\n",
    "\n",
    "    return acc"
   ]
  },
  {
   "cell_type": "code",
   "execution_count": 81,
   "metadata": {},
   "outputs": [],
   "source": [
    "device = \"cpu\"\n",
    "emb_size = compound_embs.shape[1]\n",
    "link_predictor = CosineSimilarityModel(input_dim=emb_size).to(device)\n"
   ]
  },
  {
   "cell_type": "code",
   "execution_count": 82,
   "metadata": {},
   "outputs": [
    {
     "data": {
      "text/plain": [
       "(torch.Size([15364, 400]), torch.Size([4855, 400]))"
      ]
     },
     "execution_count": 82,
     "metadata": {},
     "output_type": "execute_result"
    }
   ],
   "source": [
    "compound_embs.shape, disease_embs.shape"
   ]
  },
  {
   "cell_type": "code",
   "execution_count": 83,
   "metadata": {},
   "outputs": [
    {
     "name": "stdout",
     "output_type": "stream",
     "text": [
      "Youdens  index: 0.5111 Sensitivity: 0.6224 Specificity: 0.3944\n"
     ]
    },
    {
     "data": {
      "image/png": "[encoded data removed]",
      "text/plain": [
       "<Figure size 1000x200 with 3 Axes>"
      ]
     },
     "metadata": {},
     "output_type": "display_data"
    },
    {
     "data": {
      "text/plain": [
       "0.5049648324369053"
      ]
     },
     "execution_count": 83,
     "metadata": {},
     "output_type": "execute_result"
    }
   ],
   "source": [
    "evaluate_link_pred(link_predictor, compound_embs, disease_embs, edge_index_train_predict)"
   ]
  },
  {
   "cell_type": "code",
   "execution_count": 84,
   "metadata": {},
   "outputs": [
    {
     "name": "stdout",
     "output_type": "stream",
     "text": [
      "Youdens  index: 0.5196 Sensitivity: 0.5135 Specificity: 0.5807\n"
     ]
    },
    {
     "data": {
      "image/png": "[encoded data removed]",
      "text/plain": [
       "<Figure size 1000x200 with 3 Axes>"
      ]
     },
     "metadata": {},
     "output_type": "display_data"
    },
    {
     "data": {
      "text/plain": [
       "0.5095285857572718"
      ]
     },
     "execution_count": 84,
     "metadata": {},
     "output_type": "execute_result"
    }
   ],
   "source": [
    "evaluate_link_pred(link_predictor, compound_embs, disease_embs, edge_index_test_predict)"
   ]
  },
  {
   "cell_type": "code",
   "execution_count": 85,
   "metadata": {},
   "outputs": [
    {
     "name": "stdout",
     "output_type": "stream",
     "text": [
      "Youdens  index: 0.5162 Sensitivity: 0.5777 Specificity: 0.4744\n"
     ]
    },
    {
     "data": {
      "image/png": "[encoded data removed]",
      "text/plain": [
       "<Figure size 1000x200 with 3 Axes>"
      ]
     },
     "metadata": {},
     "output_type": "display_data"
    },
    {
     "data": {
      "text/plain": [
       "0.506519558676028"
      ]
     },
     "execution_count": 85,
     "metadata": {},
     "output_type": "execute_result"
    }
   ],
   "source": [
    "evaluate_link_pred(link_predictor, compound_embs, disease_embs, edge_index_val_predict)"
   ]
  }
 ],
 "metadata": {
  "colab": {
   "provenance": []
  },
  "gpuClass": "standard",
  "kernelspec": {
   "display_name": "simp_llm",
   "language": "python",
   "name": "python3"
  },
  "language_info": {
   "codemirror_mode": {
    "name": "ipython",
    "version": 3
   },
   "file_extension": ".py",
   "mimetype": "text/x-python",
   "name": "python",
   "nbconvert_exporter": "python",
   "pygments_lexer": "ipython3",
   "version": "3.11.3"
  },
  "widgets": {
   "application/vnd.jupyter.widget-state+json": {
    "2d42bd2c408a4bd3bdebc2865ea42483": {
     "model_module": "@jupyter-widgets/base",
     "model_module_version": "1.2.0",
     "model_name": "LayoutModel",
     "state": {
      "_model_module": "@jupyter-widgets/base",
      "_model_module_version": "1.2.0",
      "_model_name": "LayoutModel",
      "_view_count": null,
      "_view_module": "@jupyter-widgets/base",
      "_view_module_version": "1.2.0",
      "_view_name": "LayoutView",
      "align_content": null,
      "align_items": null,
      "align_self": null,
      "border": null,
      "bottom": null,
      "display": null,
      "flex": null,
      "flex_flow": null,
      "grid_area": null,
      "grid_auto_columns": null,
      "grid_auto_flow": null,
      "grid_auto_rows": null,
      "grid_column": null,
      "grid_gap": null,
      "grid_row": null,
      "grid_template_areas": null,
      "grid_template_columns": null,
      "grid_template_rows": null,
      "height": null,
      "justify_content": null,
      "justify_items": null,
      "left": null,
      "margin": null,
      "max_height": null,
      "max_width": null,
      "min_height": null,
      "min_width": null,
      "object_fit": null,
      "object_position": null,
      "order": null,
      "overflow": null,
      "overflow_x": null,
      "overflow_y": null,
      "padding": null,
      "right": null,
      "top": null,
      "visibility": "hidden",
      "width": null
     }
    },
    "6e79954f9c514f099b336e3a11ad635e": {
     "model_module": "@jupyter-widgets/controls",
     "model_module_version": "1.5.0",
     "model_name": "HTMLModel",
     "state": {
      "_dom_classes": [],
      "_model_module": "@jupyter-widgets/controls",
      "_model_module_version": "1.5.0",
      "_model_name": "HTMLModel",
      "_view_count": null,
      "_view_module": "@jupyter-widgets/controls",
      "_view_module_version": "1.5.0",
      "_view_name": "HTMLView",
      "description": "",
      "description_tooltip": null,
      "layout": "IPY_MODEL_6f2e0878218c4b38974a74a673b70751",
      "placeholder": "​",
      "style": "IPY_MODEL_98ccadd9e4a34d8282282a332fad6e0b",
      "value": "Downloading chembl_32_sqlite.tar.gz: 100%"
     }
    },
    "6f2e0878218c4b38974a74a673b70751": {
     "model_module": "@jupyter-widgets/base",
     "model_module_version": "1.2.0",
     "model_name": "LayoutModel",
     "state": {
      "_model_module": "@jupyter-widgets/base",
      "_model_module_version": "1.2.0",
      "_model_name": "LayoutModel",
      "_view_count": null,
      "_view_module": "@jupyter-widgets/base",
      "_view_module_version": "1.2.0",
      "_view_name": "LayoutView",
      "align_content": null,
      "align_items": null,
      "align_self": null,
      "border": null,
      "bottom": null,
      "display": null,
      "flex": null,
      "flex_flow": null,
      "grid_area": null,
      "grid_auto_columns": null,
      "grid_auto_flow": null,
      "grid_auto_rows": null,
      "grid_column": null,
      "grid_gap": null,
      "grid_row": null,
      "grid_template_areas": null,
      "grid_template_columns": null,
      "grid_template_rows": null,
      "height": null,
      "justify_content": null,
      "justify_items": null,
      "left": null,
      "margin": null,
      "max_height": null,
      "max_width": null,
      "min_height": null,
      "min_width": null,
      "object_fit": null,
      "object_position": null,
      "order": null,
      "overflow": null,
      "overflow_x": null,
      "overflow_y": null,
      "padding": null,
      "right": null,
      "top": null,
      "visibility": null,
      "width": null
     }
    },
    "98ccadd9e4a34d8282282a332fad6e0b": {
     "model_module": "@jupyter-widgets/controls",
     "model_module_version": "1.5.0",
     "model_name": "DescriptionStyleModel",
     "state": {
      "_model_module": "@jupyter-widgets/controls",
      "_model_module_version": "1.5.0",
      "_model_name": "DescriptionStyleModel",
      "_view_count": null,
      "_view_module": "@jupyter-widgets/base",
      "_view_module_version": "1.2.0",
      "_view_name": "StyleView",
      "description_width": ""
     }
    },
    "a95662c4dc0949f4af40e8331cde378d": {
     "model_module": "@jupyter-widgets/controls",
     "model_module_version": "1.5.0",
     "model_name": "FloatProgressModel",
     "state": {
      "_dom_classes": [],
      "_model_module": "@jupyter-widgets/controls",
      "_model_module_version": "1.5.0",
      "_model_name": "FloatProgressModel",
      "_view_count": null,
      "_view_module": "@jupyter-widgets/controls",
      "_view_module_version": "1.5.0",
      "_view_name": "ProgressView",
      "bar_style": "info",
      "description": "",
      "description_tooltip": null,
      "layout": "IPY_MODEL_eec53708d80f41e8b402060c9a1352b1",
      "max": 1,
      "min": 0,
      "orientation": "horizontal",
      "style": "IPY_MODEL_f87f682db17a4e6b837b9c14c85ec36f",
      "value": 1
     }
    },
    "b0797e6674144b1b92d2ff70918b917c": {
     "model_module": "@jupyter-widgets/base",
     "model_module_version": "1.2.0",
     "model_name": "LayoutModel",
     "state": {
      "_model_module": "@jupyter-widgets/base",
      "_model_module_version": "1.2.0",
      "_model_name": "LayoutModel",
      "_view_count": null,
      "_view_module": "@jupyter-widgets/base",
      "_view_module_version": "1.2.0",
      "_view_name": "LayoutView",
      "align_content": null,
      "align_items": null,
      "align_self": null,
      "border": null,
      "bottom": null,
      "display": null,
      "flex": null,
      "flex_flow": null,
      "grid_area": null,
      "grid_auto_columns": null,
      "grid_auto_flow": null,
      "grid_auto_rows": null,
      "grid_column": null,
      "grid_gap": null,
      "grid_row": null,
      "grid_template_areas": null,
      "grid_template_columns": null,
      "grid_template_rows": null,
      "height": null,
      "justify_content": null,
      "justify_items": null,
      "left": null,
      "margin": null,
      "max_height": null,
      "max_width": null,
      "min_height": null,
      "min_width": null,
      "object_fit": null,
      "object_position": null,
      "order": null,
      "overflow": null,
      "overflow_x": null,
      "overflow_y": null,
      "padding": null,
      "right": null,
      "top": null,
      "visibility": null,
      "width": null
     }
    },
    "b355679609b749d698029d4f39d45503": {
     "model_module": "@jupyter-widgets/controls",
     "model_module_version": "1.5.0",
     "model_name": "HBoxModel",
     "state": {
      "_dom_classes": [],
      "_model_module": "@jupyter-widgets/controls",
      "_model_module_version": "1.5.0",
      "_model_name": "HBoxModel",
      "_view_count": null,
      "_view_module": "@jupyter-widgets/controls",
      "_view_module_version": "1.5.0",
      "_view_name": "HBoxView",
      "box_style": "",
      "children": [
       "IPY_MODEL_6e79954f9c514f099b336e3a11ad635e",
       "IPY_MODEL_a95662c4dc0949f4af40e8331cde378d",
       "IPY_MODEL_d89d003254ce42f9a44572c7e26940ec"
      ],
      "layout": "IPY_MODEL_2d42bd2c408a4bd3bdebc2865ea42483"
     }
    },
    "d0a9a73a5fe14afb8b15a2addf4f080d": {
     "model_module": "@jupyter-widgets/controls",
     "model_module_version": "1.5.0",
     "model_name": "DescriptionStyleModel",
     "state": {
      "_model_module": "@jupyter-widgets/controls",
      "_model_module_version": "1.5.0",
      "_model_name": "DescriptionStyleModel",
      "_view_count": null,
      "_view_module": "@jupyter-widgets/base",
      "_view_module_version": "1.2.0",
      "_view_name": "StyleView",
      "description_width": ""
     }
    },
    "d89d003254ce42f9a44572c7e26940ec": {
     "model_module": "@jupyter-widgets/controls",
     "model_module_version": "1.5.0",
     "model_name": "HTMLModel",
     "state": {
      "_dom_classes": [],
      "_model_module": "@jupyter-widgets/controls",
      "_model_module_version": "1.5.0",
      "_model_name": "HTMLModel",
      "_view_count": null,
      "_view_module": "@jupyter-widgets/controls",
      "_view_module_version": "1.5.0",
      "_view_name": "HTMLView",
      "description": "",
      "description_tooltip": null,
      "layout": "IPY_MODEL_b0797e6674144b1b92d2ff70918b917c",
      "placeholder": "​",
      "style": "IPY_MODEL_d0a9a73a5fe14afb8b15a2addf4f080d",
      "value": " 4.27G/4.27G [03:38&lt;00:00, 21.7MB/s]"
     }
    },
    "eec53708d80f41e8b402060c9a1352b1": {
     "model_module": "@jupyter-widgets/base",
     "model_module_version": "1.2.0",
     "model_name": "LayoutModel",
     "state": {
      "_model_module": "@jupyter-widgets/base",
      "_model_module_version": "1.2.0",
      "_model_name": "LayoutModel",
      "_view_count": null,
      "_view_module": "@jupyter-widgets/base",
      "_view_module_version": "1.2.0",
      "_view_name": "LayoutView",
      "align_content": null,
      "align_items": null,
      "align_self": null,
      "border": null,
      "bottom": null,
      "display": null,
      "flex": null,
      "flex_flow": null,
      "grid_area": null,
      "grid_auto_columns": null,
      "grid_auto_flow": null,
      "grid_auto_rows": null,
      "grid_column": null,
      "grid_gap": null,
      "grid_row": null,
      "grid_template_areas": null,
      "grid_template_columns": null,
      "grid_template_rows": null,
      "height": null,
      "justify_content": null,
      "justify_items": null,
      "left": null,
      "margin": null,
      "max_height": null,
      "max_width": null,
      "min_height": null,
      "min_width": null,
      "object_fit": null,
      "object_position": null,
      "order": null,
      "overflow": null,
      "overflow_x": null,
      "overflow_y": null,
      "padding": null,
      "right": null,
      "top": null,
      "visibility": null,
      "width": "20px"
     }
    },
    "f87f682db17a4e6b837b9c14c85ec36f": {
     "model_module": "@jupyter-widgets/controls",
     "model_module_version": "1.5.0",
     "model_name": "ProgressStyleModel",
     "state": {
      "_model_module": "@jupyter-widgets/controls",
      "_model_module_version": "1.5.0",
      "_model_name": "ProgressStyleModel",
      "_view_count": null,
      "_view_module": "@jupyter-widgets/base",
      "_view_module_version": "1.2.0",
      "_view_name": "StyleView",
      "bar_color": null,
      "description_width": ""
     }
    }
   }
  }
 },
 "nbformat": 4,
 "nbformat_minor": 4
}
