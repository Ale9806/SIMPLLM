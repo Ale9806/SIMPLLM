{
 "cells": [
  {
   "cell_type": "markdown",
   "metadata": {
    "id": "DnQGl_D4786T"
   },
   "source": [
    "DRKG\n",
    "\n",
    "Adapted from: https://github.com/gnn4dr/DRKG/blob/master/drkg_with_dgl/loading_drkg_in_dgl.ipynb"
   ]
  },
  {
   "cell_type": "code",
   "execution_count": 6,
   "metadata": {
    "id": "PV4N5XSIKfTa"
   },
   "outputs": [],
   "source": [
    "import pandas as pd\n",
    "import numpy as np\n",
    "import os \n",
    "import torch_geometric.transforms as T\n",
    "import torch\n",
    "from sklearn.metrics import accuracy_score\n",
    "\n",
    "import torch\n",
    "import torch.nn as nn\n",
    "import torch.nn.functional as F\n",
    "import torch_geometric as pyg\n",
    "import torch_geometric\n",
    "from torch_geometric.nn import SAGEConv, to_hetero\n",
    "from   torch.utils.data      import Dataset, DataLoader\n",
    "from   torch_geometric.data  import Data\n",
    "from   torch_geometric.utils import negative_sampling\n",
    "\n",
    "\n",
    "from torch_geometric.nn           import SAGEConv, to_hetero\n",
    "from SIMP_LLM.dataloader_mappings import load_graph,load_csv_as_list\n",
    "\n",
    "\n",
    "from SIMP_LLM.models              import  GATStack,GNNStack,LinkPredictorMLP,CosineSimilarityModel,save_torch_model\n",
    "from SIMP_LLM.train_utils         import  forward_pass, train,evaluate,   filter_edge_index_by_value,split_edge_index,get_negative_edges\n",
    "\n",
    "import matplotlib.pyplot as plt #needed to visualize loss curves\n",
    "import numpy as np \n",
    "\n",
    "from sklearn         import metrics\n",
    "from sklearn.metrics import ConfusionMatrixDisplay\n",
    "\n",
    "\n",
    "import copy"
   ]
  },
  {
   "cell_type": "code",
   "execution_count": 36,
   "metadata": {},
   "outputs": [
    {
     "name": "stdout",
     "output_type": "stream",
     "text": [
      "tensor([[ 2574, 11387,  4595, 14540, 14540, 14540,  1834,  6994,  6994,  2121,\n",
      "          1339,  7556,  1072, 11813, 11813, 11813,   145,  1148, 10332,  6374,\n",
      "          9680,  9680,  4390,  7837,  4692, 10159, 10758,  7162,  2366, 10412,\n",
      "         11908, 13763],\n",
      "        [  483,  2205,  2449,  3460,  3522,  3460,  2449,   357,   357,   483,\n",
      "          2449,  1005,  2449,  3460,  3522,  3460,    76,    76,   856,    76,\n",
      "           375,   375,   973,  2449,  2449,  2449,  2449,  2449,  2449,   483,\n",
      "           483,  2449]])\n"
     ]
    }
   ],
   "source": [
    "import pickle\n",
    "\n",
    "# Specify the path to your pickle file\n",
    "pickle_file_path = 'data/rare_disease_data.pkl'\n",
    "\n",
    "# Open the pickle file in read mode\n",
    "with open(pickle_file_path, 'rb') as file:\n",
    "    # Load the contents of the pickle file\n",
    "    data = pickle.load(file)\n",
    "\n",
    "    \n",
    "drug_ids    = [data['drug_id'] for data in data]\n",
    "disease_ids = [data['disease_id'] for data in data]\n",
    "\n",
    "# Create edge index tensor\n",
    "edge_index_pre = torch.tensor([drug_ids, disease_ids])\n",
    "\n",
    "# Print the edge index tensor\n",
    "print(edge_index_pre)\n"
   ]
  },
  {
   "cell_type": "code",
   "execution_count": 37,
   "metadata": {},
   "outputs": [
    {
     "data": {
      "text/plain": [
       "[{'ID': 'Alpelisib->breast cancer',\n",
       "  'drug_name': 'Alpelisib',\n",
       "  'disease_name': 'breast cancer',\n",
       "  'drug_id': 2574,\n",
       "  'disease_id': 483},\n",
       " {'ID': 'Ambenonium->Myasthenia Gravis',\n",
       "  'drug_name': 'Ambenonium',\n",
       "  'disease_name': 'Myasthenia Gravis',\n",
       "  'drug_id': 11387,\n",
       "  'disease_id': 2205},\n",
       " {'ID': 'Apalutamide->prostate cancer',\n",
       "  'drug_name': 'Apalutamide',\n",
       "  'disease_name': 'prostate cancer',\n",
       "  'drug_id': 4595,\n",
       "  'disease_id': 2449},\n",
       " {'ID': 'Artesunate->Malaria',\n",
       "  'drug_name': 'Artesunate',\n",
       "  'disease_name': 'Malaria',\n",
       "  'drug_id': 14540,\n",
       "  'disease_id': 3460},\n",
       " {'ID': 'Artesunate->malaria',\n",
       "  'drug_name': 'Artesunate',\n",
       "  'disease_name': 'malaria',\n",
       "  'drug_id': 14540,\n",
       "  'disease_id': 3522},\n",
       " {'ID': 'Artesunate->Malaria',\n",
       "  'drug_name': 'Artesunate',\n",
       "  'disease_name': 'Malaria',\n",
       "  'drug_id': 14540,\n",
       "  'disease_id': 3460},\n",
       " {'ID': 'Darolutamide->prostate cancer',\n",
       "  'drug_name': 'Darolutamide',\n",
       "  'disease_name': 'prostate cancer',\n",
       "  'drug_id': 1834,\n",
       "  'disease_id': 2449},\n",
       " {'ID': 'Delamanid->Tuberculosis',\n",
       "  'drug_name': 'Delamanid',\n",
       "  'disease_name': 'Tuberculosis',\n",
       "  'drug_id': 6994,\n",
       "  'disease_id': 357},\n",
       " {'ID': 'Delamanid->Tuberculosis',\n",
       "  'drug_name': 'Delamanid',\n",
       "  'disease_name': 'Tuberculosis',\n",
       "  'drug_id': 6994,\n",
       "  'disease_id': 357},\n",
       " {'ID': 'Didox->breast cancer',\n",
       "  'drug_name': 'Didox',\n",
       "  'disease_name': 'breast cancer',\n",
       "  'drug_id': 2121,\n",
       "  'disease_id': 483},\n",
       " {'ID': 'Enzalutamide->prostate cancer',\n",
       "  'drug_name': 'Enzalutamide',\n",
       "  'disease_name': 'prostate cancer',\n",
       "  'drug_id': 1339,\n",
       "  'disease_id': 2449},\n",
       " {'ID': 'Leucovorin->Osteosarcoma',\n",
       "  'drug_name': 'Leucovorin',\n",
       "  'disease_name': 'Osteosarcoma',\n",
       "  'drug_id': 7556,\n",
       "  'disease_id': 1005},\n",
       " {'ID': 'Leuprolide->prostate cancer',\n",
       "  'drug_name': 'Leuprolide',\n",
       "  'disease_name': 'prostate cancer',\n",
       "  'drug_id': 1072,\n",
       "  'disease_id': 2449},\n",
       " {'ID': 'Lumefantrine->Malaria',\n",
       "  'drug_name': 'Lumefantrine',\n",
       "  'disease_name': 'Malaria',\n",
       "  'drug_id': 11813,\n",
       "  'disease_id': 3460},\n",
       " {'ID': 'Lumefantrine->malaria',\n",
       "  'drug_name': 'Lumefantrine',\n",
       "  'disease_name': 'malaria',\n",
       "  'drug_id': 11813,\n",
       "  'disease_id': 3522},\n",
       " {'ID': 'Lumefantrine->Malaria',\n",
       "  'drug_name': 'Lumefantrine',\n",
       "  'disease_name': 'Malaria',\n",
       "  'drug_id': 11813,\n",
       "  'disease_id': 3460},\n",
       " {'ID': 'Panobinostat->Multiple Myeloma',\n",
       "  'drug_name': 'Panobinostat',\n",
       "  'disease_name': 'Multiple Myeloma',\n",
       "  'drug_id': 145,\n",
       "  'disease_id': 76},\n",
       " {'ID': 'Pomalidomide->Multiple Myeloma',\n",
       "  'drug_name': 'Pomalidomide',\n",
       "  'disease_name': 'Multiple Myeloma',\n",
       "  'drug_id': 1148,\n",
       "  'disease_id': 76},\n",
       " {'ID': 'Raltitrexed->Mesothelioma',\n",
       "  'drug_name': 'Raltitrexed',\n",
       "  'disease_name': 'Mesothelioma',\n",
       "  'drug_id': 10332,\n",
       "  'disease_id': 856},\n",
       " {'ID': 'Selinexor->Multiple Myeloma',\n",
       "  'drug_name': 'Selinexor',\n",
       "  'disease_name': 'Multiple Myeloma',\n",
       "  'drug_id': 6374,\n",
       "  'disease_id': 76},\n",
       " {'ID': 'Solriamfetol->Narcolepsy',\n",
       "  'drug_name': 'Solriamfetol',\n",
       "  'disease_name': 'Narcolepsy',\n",
       "  'drug_id': 9680,\n",
       "  'disease_id': 375},\n",
       " {'ID': 'Solriamfetol->Narcolepsy',\n",
       "  'drug_name': 'Solriamfetol',\n",
       "  'disease_name': 'Narcolepsy',\n",
       "  'drug_id': 9680,\n",
       "  'disease_id': 375},\n",
       " {'ID': 'Trofosfamide->Medulloblastoma',\n",
       "  'drug_name': 'Trofosfamide',\n",
       "  'disease_name': 'Medulloblastoma',\n",
       "  'drug_id': 4390,\n",
       "  'disease_id': 973},\n",
       " {'ID': 'Abiraterone->prostate cancer',\n",
       "  'drug_name': 'Abiraterone',\n",
       "  'disease_name': 'prostate cancer',\n",
       "  'drug_id': 7837,\n",
       "  'disease_id': 2449},\n",
       " {'ID': 'Bicalutamide->prostate cancer',\n",
       "  'drug_name': 'Bicalutamide',\n",
       "  'disease_name': 'prostate cancer',\n",
       "  'drug_id': 4692,\n",
       "  'disease_id': 2449},\n",
       " {'ID': 'Cabazitaxel->prostate cancer',\n",
       "  'drug_name': 'Cabazitaxel',\n",
       "  'disease_name': 'prostate cancer',\n",
       "  'drug_id': 10159,\n",
       "  'disease_id': 2449},\n",
       " {'ID': 'Degarelix->prostate cancer',\n",
       "  'drug_name': 'Degarelix',\n",
       "  'disease_name': 'prostate cancer',\n",
       "  'drug_id': 10758,\n",
       "  'disease_id': 2449},\n",
       " {'ID': 'Estramustine->prostate cancer',\n",
       "  'drug_name': 'Estramustine',\n",
       "  'disease_name': 'prostate cancer',\n",
       "  'drug_id': 7162,\n",
       "  'disease_id': 2449},\n",
       " {'ID': 'Flutamide->prostate cancer',\n",
       "  'drug_name': 'Flutamide',\n",
       "  'disease_name': 'prostate cancer',\n",
       "  'drug_id': 2366,\n",
       "  'disease_id': 2449},\n",
       " {'ID': 'Fulvestrant->breast cancer',\n",
       "  'drug_name': 'Fulvestrant',\n",
       "  'disease_name': 'breast cancer',\n",
       "  'drug_id': 10412,\n",
       "  'disease_id': 483},\n",
       " {'ID': 'Lapatinib->breast cancer',\n",
       "  'drug_name': 'Lapatinib',\n",
       "  'disease_name': 'breast cancer',\n",
       "  'drug_id': 11908,\n",
       "  'disease_id': 483},\n",
       " {'ID': 'Nilutamide->prostate cancer',\n",
       "  'drug_name': 'Nilutamide',\n",
       "  'disease_name': 'prostate cancer',\n",
       "  'drug_id': 13763,\n",
       "  'disease_id': 2449}]"
      ]
     },
     "execution_count": 37,
     "metadata": {},
     "output_type": "execute_result"
    }
   ],
   "source": [
    "  data "
   ]
  },
  {
   "cell_type": "markdown",
   "metadata": {},
   "source": [
    "## Load Graph"
   ]
  },
  {
   "cell_type": "code",
   "execution_count": 8,
   "metadata": {},
   "outputs": [
    {
     "name": "stdout",
     "output_type": "stream",
     "text": [
      "data2\n"
     ]
    }
   ],
   "source": [
    "#triplets =[('Compound', 'Compound_treats_the_disease', 'Disease')] # Uncomment this line \n",
    "triplets     = load_csv_as_list('triplets.csv')                     # triplets of form (tail, relationship,head)\n",
    "data         = load_graph(triplets )                                # Load Graph based on triplets (You can selet the triplets \n",
    "dictionaries = torch.load(\"data2/mapping_dict\")\n",
    "#print(data)\n",
    "#print(data[\"Compound\", \"Compound_treats_the_disease\", \"Disease\"].edge_index)"
   ]
  },
  {
   "cell_type": "markdown",
   "metadata": {},
   "source": [
    "## GRAPH SAGE\n",
    "\n",
    "#### 1 Masking Sanity Check"
   ]
  },
  {
   "cell_type": "code",
   "execution_count": 9,
   "metadata": {},
   "outputs": [
    {
     "name": "stdout",
     "output_type": "stream",
     "text": [
      "Oringal Edge index:\n",
      "tensor([[ 0,  0,  0,  1,  1,  2,  2,  3,  4,  5,  5,  5,  5,  5],\n",
      "        [ 1,  2,  3,  4,  5,  6,  7,  8,  9, 10, 11, 12, 13, 14]])\n",
      ": torch.Size([2, 14])\n",
      "\n",
      "##############\n",
      "Edge Index 1: torch.Size([2, 5])\n",
      "\n",
      "Edge Index 2: torch.Size([2, 9])\n",
      "##############\n"
     ]
    }
   ],
   "source": [
    "edge_index = torch.tensor([[0, 0, 0, 1, 1, 2, 2, 3,4,5,5,5,5,5], [1, 2, 3, 4, 5, 6, 7, 8,9,10,11,12,13,14]])\n",
    "print(f\"Oringal Edge index:\\n{edge_index }\\n: {edge_index.shape}\\n\")\n",
    "edge_index_1 , edge_index_2 = split_edge_index(edge_index ,percentage = 0.5,verbose=True)"
   ]
  },
  {
   "cell_type": "markdown",
   "metadata": {},
   "source": [
    "### 2 Mask Real Data "
   ]
  },
  {
   "cell_type": "markdown",
   "metadata": {},
   "source": [
    "###  3 Compile Model "
   ]
  },
  {
   "cell_type": "code",
   "execution_count": 10,
   "metadata": {},
   "outputs": [
    {
     "name": "stderr",
     "output_type": "stream",
     "text": [
      "/opt/conda/envs/simp/lib/python3.11/site-packages/torch_geometric/nn/to_hetero_transformer.py:165: UserWarning: The type 'Side Effect' contains invalid characters which may lead to unexpected behavior. To avoid any issues, ensure that your types only contain letters, numbers and underscores.\n",
      "  warnings.warn(\n",
      "/opt/conda/envs/simp/lib/python3.11/site-packages/torch_geometric/nn/to_hetero_transformer.py:165: UserWarning: The type 'Biological Process' contains invalid characters which may lead to unexpected behavior. To avoid any issues, ensure that your types only contain letters, numbers and underscores.\n",
      "  warnings.warn(\n",
      "/opt/conda/envs/simp/lib/python3.11/site-packages/torch_geometric/nn/to_hetero_transformer.py:165: UserWarning: The type 'Cellular Component' contains invalid characters which may lead to unexpected behavior. To avoid any issues, ensure that your types only contain letters, numbers and underscores.\n",
      "  warnings.warn(\n",
      "/opt/conda/envs/simp/lib/python3.11/site-packages/torch_geometric/nn/to_hetero_transformer.py:165: UserWarning: The type 'Molecular Function' contains invalid characters which may lead to unexpected behavior. To avoid any issues, ensure that your types only contain letters, numbers and underscores.\n",
      "  warnings.warn(\n",
      "/opt/conda/envs/simp/lib/python3.11/site-packages/torch_geometric/nn/to_hetero_transformer.py:165: UserWarning: The type 'Pharmacologic Class' contains invalid characters which may lead to unexpected behavior. To avoid any issues, ensure that your types only contain letters, numbers and underscores.\n",
      "  warnings.warn(\n"
     ]
    },
    {
     "name": "stdout",
     "output_type": "stream",
     "text": [
      "CosineSimilarityModel(\n",
      "  (cos): CosineSimilarity()\n",
      ")\n",
      "Models Loaded to cpu\n",
      "\n"
     ]
    }
   ],
   "source": [
    "epochs        = 500\n",
    "hidden_dim    = 524      \n",
    "dropout       = 0.7\n",
    "num_layers    = 3\n",
    "learning_rate = 1e-4\n",
    "node_emb_dim  = 768\n",
    "device        = \"cpu\"\n",
    "head          = \"COSINE\"    # one of   \"MLP\", \"COSINE\"\n",
    "backbone      = \"GraphSage\" # one of  \"GraphSage\",\"GAT\"\n",
    "\n",
    "\n",
    "\n",
    "#GATStack,GNNStack\n",
    "\n",
    "\n",
    "if backbone == \"GraphSage\":\n",
    "    HomoGNN         = GNNStack(node_emb_dim, hidden_dim, hidden_dim, num_layers, dropout, return_embedding=True).to(device) # the graph neural network that takes all the node embeddings as inputs to message pass and agregate\n",
    "elif backbone == \"GAT\":\n",
    "    HomoGNN         = GATStack(node_emb_dim, hidden_dim, hidden_dim, num_layers, dropout, return_embedding=True).to(device) \n",
    "    \n",
    "embed_model     = to_hetero(HomoGNN   , data.metadata(), aggr='sum')\n",
    "if head == \"MLP\":\n",
    "    link_predictor  = LinkPredictorMLP(hidden_dim, hidden_dim, 1, num_layers , dropout).to(device) # the MLP that takes embeddings of a pair of nodes and predicts the existence of an edge between them\n",
    "if head == \"COSINE\":\n",
    "    link_predictor = CosineSimilarityModel(input_dim=524 ).to(device)\n",
    "\n",
    "#optimizer      = torch.optim.AdamW(list(model.parameters()) + list(link_predictor.parameters() ), lr=learning_rate, weight_decay=1e-4)\n",
    "if head ==  \"MLP\":\n",
    "    optimizer       = torch.optim.Adam(list(embed_model.parameters()) + list(link_predictor.parameters() ), lr=learning_rate)\n",
    "elif head == \"COSINE\":\n",
    "    optimizer       = torch.optim.Adam(list(embed_model.parameters()) , lr=learning_rate)\n",
    "    \n",
    "\n",
    "#print(HeteroGNN )\n",
    "print(link_predictor)\n",
    "print(f\"Models Loaded to {device}\")\n",
    "data.to(device)\n",
    "embed_model.to(device)\n",
    "print()"
   ]
  },
  {
   "cell_type": "code",
   "execution_count": 11,
   "metadata": {},
   "outputs": [
    {
     "name": "stdout",
     "output_type": "stream",
     "text": [
      "Loading best models:  Saved_models/GraphSageCosine/GraphSage_epoch_58.pt  Saved_models/GraphSageCosine/link_predictor_epoch_58.pt\n"
     ]
    }
   ],
   "source": [
    "#### Load Best Models ####\n",
    "best_graphsage_model_path      = os.path.join(\"Saved_models\",\"GraphSageCosine\",\"GraphSage_epoch_58.pt\")\n",
    "best_link_predictor_model_path = os.path.join(\"Saved_models\",\"GraphSageCosine\",\"link_predictor_epoch_58.pt\")\n",
    "print(f\"Loading best models:  {best_graphsage_model_path }  {best_link_predictor_model_path}\")\n",
    "                                              \n",
    "                                              \n",
    "checkpoint = torch.load(best_graphsage_model_path  )\n",
    "embed_model.load_state_dict(checkpoint['model_state_dict'])\n",
    "\n",
    "checkpoint = torch.load(best_link_predictor_model_path)\n",
    "link_predictor.load_state_dict(checkpoint['model_state_dict'])\n",
    "\n",
    "del checkpoint\n"
   ]
  },
  {
   "cell_type": "code",
   "execution_count": 13,
   "metadata": {},
   "outputs": [],
   "source": [
    " node_emb   = embed_model(data.x_dict, data.edge_index_dict)  # Embed Bert Embeddigns with graphsage (N, d) "
   ]
  },
  {
   "cell_type": "code",
   "execution_count": null,
   "metadata": {},
   "outputs": [],
   "source": [
    "edge_index_pre"
   ]
  },
  {
   "cell_type": "code",
   "execution_count": 19,
   "metadata": {},
   "outputs": [],
   "source": [
    "\n",
    "head                = node_emb['Compound'][drug_ids]\n",
    "tail                = node_emb['Disease'][disease_ids]\n",
    "pred                = link_predictor( head  ,    tail   )"
   ]
  },
  {
   "cell_type": "code",
   "execution_count": 33,
   "metadata": {},
   "outputs": [
    {
     "data": {
      "text/plain": [
       "tensor([0, 0, 0, 0, 0, 0, 0, 0, 0, 0, 0, 1, 1, 0, 0, 0, 0, 0, 1, 0, 0, 0, 0, 1,\n",
       "        1, 1, 0, 1, 1, 1, 1, 1])"
      ]
     },
     "execution_count": 33,
     "metadata": {},
     "output_type": "execute_result"
    }
   ],
   "source": [
    "(pred > 0.3254*2)*1"
   ]
  },
  {
   "cell_type": "code",
   "execution_count": 30,
   "metadata": {},
   "outputs": [
    {
     "data": {
      "text/plain": [
       "tensor(0.3750)"
      ]
     },
     "execution_count": 30,
     "metadata": {},
     "output_type": "execute_result"
    }
   ],
   "source": [
    "((pred > 0.3254)*1).sum()/(len(pred))\n"
   ]
  },
  {
   "cell_type": "code",
   "execution_count": 34,
   "metadata": {},
   "outputs": [
    {
     "data": {
      "text/plain": [
       "tensor([0.2965, 0.2909, 0.2913, 0.2906, 0.2949, 0.2906, 0.2952, 0.2910, 0.2910,\n",
       "        0.3023, 0.2957, 0.6979, 0.7050, 0.2941, 0.2956, 0.2941, 0.2882, 0.2923,\n",
       "        0.7010, 0.2937, 0.3173, 0.3173, 0.2949, 0.7020, 0.7069, 0.7059, 0.5739,\n",
       "        0.7034, 0.7028, 0.6972, 0.6972, 0.7050], grad_fn=<SigmoidBackward0>)"
      ]
     },
     "execution_count": 34,
     "metadata": {},
     "output_type": "execute_result"
    }
   ],
   "source": [
    "pred"
   ]
  },
  {
   "cell_type": "code",
   "execution_count": null,
   "metadata": {},
   "outputs": [],
   "source": []
  }
 ],
 "metadata": {
  "colab": {
   "provenance": []
  },
  "gpuClass": "standard",
  "kernelspec": {
   "display_name": "Python 3 (ipykernel)",
   "language": "python",
   "name": "python3"
  },
  "language_info": {
   "codemirror_mode": {
    "name": "ipython",
    "version": 3
   },
   "file_extension": ".py",
   "mimetype": "text/x-python",
   "name": "python",
   "nbconvert_exporter": "python",
   "pygments_lexer": "ipython3",
   "version": "3.11.3"
  },
  "widgets": {
   "application/vnd.jupyter.widget-state+json": {
    "2d42bd2c408a4bd3bdebc2865ea42483": {
     "model_module": "@jupyter-widgets/base",
     "model_module_version": "1.2.0",
     "model_name": "LayoutModel",
     "state": {
      "_model_module": "@jupyter-widgets/base",
      "_model_module_version": "1.2.0",
      "_model_name": "LayoutModel",
      "_view_count": null,
      "_view_module": "@jupyter-widgets/base",
      "_view_module_version": "1.2.0",
      "_view_name": "LayoutView",
      "align_content": null,
      "align_items": null,
      "align_self": null,
      "border": null,
      "bottom": null,
      "display": null,
      "flex": null,
      "flex_flow": null,
      "grid_area": null,
      "grid_auto_columns": null,
      "grid_auto_flow": null,
      "grid_auto_rows": null,
      "grid_column": null,
      "grid_gap": null,
      "grid_row": null,
      "grid_template_areas": null,
      "grid_template_columns": null,
      "grid_template_rows": null,
      "height": null,
      "justify_content": null,
      "justify_items": null,
      "left": null,
      "margin": null,
      "max_height": null,
      "max_width": null,
      "min_height": null,
      "min_width": null,
      "object_fit": null,
      "object_position": null,
      "order": null,
      "overflow": null,
      "overflow_x": null,
      "overflow_y": null,
      "padding": null,
      "right": null,
      "top": null,
      "visibility": "hidden",
      "width": null
     }
    },
    "6e79954f9c514f099b336e3a11ad635e": {
     "model_module": "@jupyter-widgets/controls",
     "model_module_version": "1.5.0",
     "model_name": "HTMLModel",
     "state": {
      "_dom_classes": [],
      "_model_module": "@jupyter-widgets/controls",
      "_model_module_version": "1.5.0",
      "_model_name": "HTMLModel",
      "_view_count": null,
      "_view_module": "@jupyter-widgets/controls",
      "_view_module_version": "1.5.0",
      "_view_name": "HTMLView",
      "description": "",
      "description_tooltip": null,
      "layout": "IPY_MODEL_6f2e0878218c4b38974a74a673b70751",
      "placeholder": "​",
      "style": "IPY_MODEL_98ccadd9e4a34d8282282a332fad6e0b",
      "value": "Downloading chembl_32_sqlite.tar.gz: 100%"
     }
    },
    "6f2e0878218c4b38974a74a673b70751": {
     "model_module": "@jupyter-widgets/base",
     "model_module_version": "1.2.0",
     "model_name": "LayoutModel",
     "state": {
      "_model_module": "@jupyter-widgets/base",
      "_model_module_version": "1.2.0",
      "_model_name": "LayoutModel",
      "_view_count": null,
      "_view_module": "@jupyter-widgets/base",
      "_view_module_version": "1.2.0",
      "_view_name": "LayoutView",
      "align_content": null,
      "align_items": null,
      "align_self": null,
      "border": null,
      "bottom": null,
      "display": null,
      "flex": null,
      "flex_flow": null,
      "grid_area": null,
      "grid_auto_columns": null,
      "grid_auto_flow": null,
      "grid_auto_rows": null,
      "grid_column": null,
      "grid_gap": null,
      "grid_row": null,
      "grid_template_areas": null,
      "grid_template_columns": null,
      "grid_template_rows": null,
      "height": null,
      "justify_content": null,
      "justify_items": null,
      "left": null,
      "margin": null,
      "max_height": null,
      "max_width": null,
      "min_height": null,
      "min_width": null,
      "object_fit": null,
      "object_position": null,
      "order": null,
      "overflow": null,
      "overflow_x": null,
      "overflow_y": null,
      "padding": null,
      "right": null,
      "top": null,
      "visibility": null,
      "width": null
     }
    },
    "98ccadd9e4a34d8282282a332fad6e0b": {
     "model_module": "@jupyter-widgets/controls",
     "model_module_version": "1.5.0",
     "model_name": "DescriptionStyleModel",
     "state": {
      "_model_module": "@jupyter-widgets/controls",
      "_model_module_version": "1.5.0",
      "_model_name": "DescriptionStyleModel",
      "_view_count": null,
      "_view_module": "@jupyter-widgets/base",
      "_view_module_version": "1.2.0",
      "_view_name": "StyleView",
      "description_width": ""
     }
    },
    "a95662c4dc0949f4af40e8331cde378d": {
     "model_module": "@jupyter-widgets/controls",
     "model_module_version": "1.5.0",
     "model_name": "FloatProgressModel",
     "state": {
      "_dom_classes": [],
      "_model_module": "@jupyter-widgets/controls",
      "_model_module_version": "1.5.0",
      "_model_name": "FloatProgressModel",
      "_view_count": null,
      "_view_module": "@jupyter-widgets/controls",
      "_view_module_version": "1.5.0",
      "_view_name": "ProgressView",
      "bar_style": "info",
      "description": "",
      "description_tooltip": null,
      "layout": "IPY_MODEL_eec53708d80f41e8b402060c9a1352b1",
      "max": 1,
      "min": 0,
      "orientation": "horizontal",
      "style": "IPY_MODEL_f87f682db17a4e6b837b9c14c85ec36f",
      "value": 1
     }
    },
    "b0797e6674144b1b92d2ff70918b917c": {
     "model_module": "@jupyter-widgets/base",
     "model_module_version": "1.2.0",
     "model_name": "LayoutModel",
     "state": {
      "_model_module": "@jupyter-widgets/base",
      "_model_module_version": "1.2.0",
      "_model_name": "LayoutModel",
      "_view_count": null,
      "_view_module": "@jupyter-widgets/base",
      "_view_module_version": "1.2.0",
      "_view_name": "LayoutView",
      "align_content": null,
      "align_items": null,
      "align_self": null,
      "border": null,
      "bottom": null,
      "display": null,
      "flex": null,
      "flex_flow": null,
      "grid_area": null,
      "grid_auto_columns": null,
      "grid_auto_flow": null,
      "grid_auto_rows": null,
      "grid_column": null,
      "grid_gap": null,
      "grid_row": null,
      "grid_template_areas": null,
      "grid_template_columns": null,
      "grid_template_rows": null,
      "height": null,
      "justify_content": null,
      "justify_items": null,
      "left": null,
      "margin": null,
      "max_height": null,
      "max_width": null,
      "min_height": null,
      "min_width": null,
      "object_fit": null,
      "object_position": null,
      "order": null,
      "overflow": null,
      "overflow_x": null,
      "overflow_y": null,
      "padding": null,
      "right": null,
      "top": null,
      "visibility": null,
      "width": null
     }
    },
    "b355679609b749d698029d4f39d45503": {
     "model_module": "@jupyter-widgets/controls",
     "model_module_version": "1.5.0",
     "model_name": "HBoxModel",
     "state": {
      "_dom_classes": [],
      "_model_module": "@jupyter-widgets/controls",
      "_model_module_version": "1.5.0",
      "_model_name": "HBoxModel",
      "_view_count": null,
      "_view_module": "@jupyter-widgets/controls",
      "_view_module_version": "1.5.0",
      "_view_name": "HBoxView",
      "box_style": "",
      "children": [
       "IPY_MODEL_6e79954f9c514f099b336e3a11ad635e",
       "IPY_MODEL_a95662c4dc0949f4af40e8331cde378d",
       "IPY_MODEL_d89d003254ce42f9a44572c7e26940ec"
      ],
      "layout": "IPY_MODEL_2d42bd2c408a4bd3bdebc2865ea42483"
     }
    },
    "d0a9a73a5fe14afb8b15a2addf4f080d": {
     "model_module": "@jupyter-widgets/controls",
     "model_module_version": "1.5.0",
     "model_name": "DescriptionStyleModel",
     "state": {
      "_model_module": "@jupyter-widgets/controls",
      "_model_module_version": "1.5.0",
      "_model_name": "DescriptionStyleModel",
      "_view_count": null,
      "_view_module": "@jupyter-widgets/base",
      "_view_module_version": "1.2.0",
      "_view_name": "StyleView",
      "description_width": ""
     }
    },
    "d89d003254ce42f9a44572c7e26940ec": {
     "model_module": "@jupyter-widgets/controls",
     "model_module_version": "1.5.0",
     "model_name": "HTMLModel",
     "state": {
      "_dom_classes": [],
      "_model_module": "@jupyter-widgets/controls",
      "_model_module_version": "1.5.0",
      "_model_name": "HTMLModel",
      "_view_count": null,
      "_view_module": "@jupyter-widgets/controls",
      "_view_module_version": "1.5.0",
      "_view_name": "HTMLView",
      "description": "",
      "description_tooltip": null,
      "layout": "IPY_MODEL_b0797e6674144b1b92d2ff70918b917c",
      "placeholder": "​",
      "style": "IPY_MODEL_d0a9a73a5fe14afb8b15a2addf4f080d",
      "value": " 4.27G/4.27G [03:38&lt;00:00, 21.7MB/s]"
     }
    },
    "eec53708d80f41e8b402060c9a1352b1": {
     "model_module": "@jupyter-widgets/base",
     "model_module_version": "1.2.0",
     "model_name": "LayoutModel",
     "state": {
      "_model_module": "@jupyter-widgets/base",
      "_model_module_version": "1.2.0",
      "_model_name": "LayoutModel",
      "_view_count": null,
      "_view_module": "@jupyter-widgets/base",
      "_view_module_version": "1.2.0",
      "_view_name": "LayoutView",
      "align_content": null,
      "align_items": null,
      "align_self": null,
      "border": null,
      "bottom": null,
      "display": null,
      "flex": null,
      "flex_flow": null,
      "grid_area": null,
      "grid_auto_columns": null,
      "grid_auto_flow": null,
      "grid_auto_rows": null,
      "grid_column": null,
      "grid_gap": null,
      "grid_row": null,
      "grid_template_areas": null,
      "grid_template_columns": null,
      "grid_template_rows": null,
      "height": null,
      "justify_content": null,
      "justify_items": null,
      "left": null,
      "margin": null,
      "max_height": null,
      "max_width": null,
      "min_height": null,
      "min_width": null,
      "object_fit": null,
      "object_position": null,
      "order": null,
      "overflow": null,
      "overflow_x": null,
      "overflow_y": null,
      "padding": null,
      "right": null,
      "top": null,
      "visibility": null,
      "width": "20px"
     }
    },
    "f87f682db17a4e6b837b9c14c85ec36f": {
     "model_module": "@jupyter-widgets/controls",
     "model_module_version": "1.5.0",
     "model_name": "ProgressStyleModel",
     "state": {
      "_model_module": "@jupyter-widgets/controls",
      "_model_module_version": "1.5.0",
      "_model_name": "ProgressStyleModel",
      "_view_count": null,
      "_view_module": "@jupyter-widgets/base",
      "_view_module_version": "1.2.0",
      "_view_name": "StyleView",
      "bar_color": null,
      "description_width": ""
     }
    }
   }
  }
 },
 "nbformat": 4,
 "nbformat_minor": 4
}
